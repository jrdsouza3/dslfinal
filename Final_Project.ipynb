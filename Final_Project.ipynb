{
  "nbformat": 4,
  "nbformat_minor": 0,
  "metadata": {
    "colab": {
      "provenance": []
    },
    "kernelspec": {
      "name": "python3",
      "display_name": "Python 3"
    },
    "language_info": {
      "name": "python"
    }
  },
  "cells": [
    {
      "cell_type": "code",
      "execution_count": 1,
      "metadata": {
        "colab": {
          "base_uri": "https://localhost:8080/"
        },
        "id": "phl0b5ZKtfuN",
        "outputId": "b588d07d-2e8e-471e-8107-e8afbc2bd3fd"
      },
      "outputs": [
        {
          "output_type": "stream",
          "name": "stdout",
          "text": [
            "Mounted at /content/drive\n",
            "Looking in indexes: https://pypi.org/simple, https://us-python.pkg.dev/colab-wheels/public/simple/\n",
            "Collecting pybaseball\n",
            "  Downloading pybaseball-2.2.5-py3-none-any.whl (419 kB)\n",
            "\u001b[2K     \u001b[90m━━━━━━━━━━━━━━━━━━━━━━━━━━━━━━━━━━━━━━\u001b[0m \u001b[32m420.0/420.0 kB\u001b[0m \u001b[31m10.6 MB/s\u001b[0m eta \u001b[36m0:00:00\u001b[0m\n",
            "\u001b[?25hRequirement already satisfied: pandas>=1.0.3 in /usr/local/lib/python3.9/dist-packages (from pybaseball) (1.5.3)\n",
            "Requirement already satisfied: requests>=2.18.1 in /usr/local/lib/python3.9/dist-packages (from pybaseball) (2.27.1)\n",
            "Requirement already satisfied: lxml>=4.2.1 in /usr/local/lib/python3.9/dist-packages (from pybaseball) (4.9.2)\n",
            "Requirement already satisfied: matplotlib>=2.0.0 in /usr/local/lib/python3.9/dist-packages (from pybaseball) (3.7.1)\n",
            "Requirement already satisfied: scipy>=1.4.0 in /usr/local/lib/python3.9/dist-packages (from pybaseball) (1.10.1)\n",
            "Requirement already satisfied: attrs>=20.3.0 in /usr/local/lib/python3.9/dist-packages (from pybaseball) (23.1.0)\n",
            "Requirement already satisfied: numpy>=1.13.0 in /usr/local/lib/python3.9/dist-packages (from pybaseball) (1.22.4)\n",
            "Requirement already satisfied: tqdm>=4.50.0 in /usr/local/lib/python3.9/dist-packages (from pybaseball) (4.65.0)\n",
            "Requirement already satisfied: beautifulsoup4>=4.4.0 in /usr/local/lib/python3.9/dist-packages (from pybaseball) (4.11.2)\n",
            "Requirement already satisfied: pyarrow>=1.0.1 in /usr/local/lib/python3.9/dist-packages (from pybaseball) (9.0.0)\n",
            "Collecting pygithub>=1.51\n",
            "  Downloading PyGithub-1.58.1-py3-none-any.whl (312 kB)\n",
            "\u001b[2K     \u001b[90m━━━━━━━━━━━━━━━━━━━━━━━━━━━━━━━━━━━━━━━\u001b[0m \u001b[32m312.5/312.5 kB\u001b[0m \u001b[31m9.1 MB/s\u001b[0m eta \u001b[36m0:00:00\u001b[0m\n",
            "\u001b[?25hRequirement already satisfied: soupsieve>1.2 in /usr/local/lib/python3.9/dist-packages (from beautifulsoup4>=4.4.0->pybaseball) (2.4.1)\n",
            "Requirement already satisfied: cycler>=0.10 in /usr/local/lib/python3.9/dist-packages (from matplotlib>=2.0.0->pybaseball) (0.11.0)\n",
            "Requirement already satisfied: pillow>=6.2.0 in /usr/local/lib/python3.9/dist-packages (from matplotlib>=2.0.0->pybaseball) (8.4.0)\n",
            "Requirement already satisfied: pyparsing>=2.3.1 in /usr/local/lib/python3.9/dist-packages (from matplotlib>=2.0.0->pybaseball) (3.0.9)\n",
            "Requirement already satisfied: kiwisolver>=1.0.1 in /usr/local/lib/python3.9/dist-packages (from matplotlib>=2.0.0->pybaseball) (1.4.4)\n",
            "Requirement already satisfied: importlib-resources>=3.2.0 in /usr/local/lib/python3.9/dist-packages (from matplotlib>=2.0.0->pybaseball) (5.12.0)\n",
            "Requirement already satisfied: contourpy>=1.0.1 in /usr/local/lib/python3.9/dist-packages (from matplotlib>=2.0.0->pybaseball) (1.0.7)\n",
            "Requirement already satisfied: packaging>=20.0 in /usr/local/lib/python3.9/dist-packages (from matplotlib>=2.0.0->pybaseball) (23.1)\n",
            "Requirement already satisfied: fonttools>=4.22.0 in /usr/local/lib/python3.9/dist-packages (from matplotlib>=2.0.0->pybaseball) (4.39.3)\n",
            "Requirement already satisfied: python-dateutil>=2.7 in /usr/local/lib/python3.9/dist-packages (from matplotlib>=2.0.0->pybaseball) (2.8.2)\n",
            "Requirement already satisfied: pytz>=2020.1 in /usr/local/lib/python3.9/dist-packages (from pandas>=1.0.3->pybaseball) (2022.7.1)\n",
            "Collecting pyjwt[crypto]>=2.4.0\n",
            "  Downloading PyJWT-2.6.0-py3-none-any.whl (20 kB)\n",
            "Collecting pynacl>=1.4.0\n",
            "  Downloading PyNaCl-1.5.0-cp36-abi3-manylinux_2_17_x86_64.manylinux2014_x86_64.manylinux_2_24_x86_64.whl (856 kB)\n",
            "\u001b[2K     \u001b[90m━━━━━━━━━━━━━━━━━━━━━━━━━━━━━━━━━━━━━━\u001b[0m \u001b[32m856.7/856.7 kB\u001b[0m \u001b[31m13.3 MB/s\u001b[0m eta \u001b[36m0:00:00\u001b[0m\n",
            "\u001b[?25hCollecting deprecated\n",
            "  Downloading Deprecated-1.2.13-py2.py3-none-any.whl (9.6 kB)\n",
            "Requirement already satisfied: urllib3<1.27,>=1.21.1 in /usr/local/lib/python3.9/dist-packages (from requests>=2.18.1->pybaseball) (1.26.15)\n",
            "Requirement already satisfied: charset-normalizer~=2.0.0 in /usr/local/lib/python3.9/dist-packages (from requests>=2.18.1->pybaseball) (2.0.12)\n",
            "Requirement already satisfied: certifi>=2017.4.17 in /usr/local/lib/python3.9/dist-packages (from requests>=2.18.1->pybaseball) (2022.12.7)\n",
            "Requirement already satisfied: idna<4,>=2.5 in /usr/local/lib/python3.9/dist-packages (from requests>=2.18.1->pybaseball) (3.4)\n",
            "Requirement already satisfied: zipp>=3.1.0 in /usr/local/lib/python3.9/dist-packages (from importlib-resources>=3.2.0->matplotlib>=2.0.0->pybaseball) (3.15.0)\n",
            "Requirement already satisfied: cryptography>=3.4.0 in /usr/local/lib/python3.9/dist-packages (from pyjwt[crypto]>=2.4.0->pygithub>=1.51->pybaseball) (40.0.2)\n",
            "Requirement already satisfied: cffi>=1.4.1 in /usr/local/lib/python3.9/dist-packages (from pynacl>=1.4.0->pygithub>=1.51->pybaseball) (1.15.1)\n",
            "Requirement already satisfied: six>=1.5 in /usr/local/lib/python3.9/dist-packages (from python-dateutil>=2.7->matplotlib>=2.0.0->pybaseball) (1.16.0)\n",
            "Requirement already satisfied: wrapt<2,>=1.10 in /usr/local/lib/python3.9/dist-packages (from deprecated->pygithub>=1.51->pybaseball) (1.14.1)\n",
            "Requirement already satisfied: pycparser in /usr/local/lib/python3.9/dist-packages (from cffi>=1.4.1->pynacl>=1.4.0->pygithub>=1.51->pybaseball) (2.21)\n",
            "Installing collected packages: pyjwt, deprecated, pynacl, pygithub, pybaseball\n",
            "Successfully installed deprecated-1.2.13 pybaseball-2.2.5 pygithub-1.58.1 pyjwt-2.6.0 pynacl-1.5.0\n"
          ]
        }
      ],
      "source": [
        "from google.colab import drive\n",
        "drive.mount('/content/drive')\n",
        "!pip install pybaseball"
      ]
    },
    {
      "cell_type": "code",
      "source": [],
      "metadata": {
        "id": "tIXOW6NCDqAA"
      },
      "execution_count": null,
      "outputs": []
    },
    {
      "cell_type": "code",
      "source": [
        "from pybaseball import statcast\n",
        "from pybaseball import statcast_pitcher\n",
        "data = statcast(start_dt=\"2021-06-1\", end_dt=\"2021-06-29\")\n",
        "\n",
        "data_cleaned = data.loc[:,['pitch_type', 'game_date',  'batter', 'pitcher',  \n",
        "      'stand', 'p_throws', 'home_team', 'away_team', \n",
        "        'balls', 'strikes', 'game_year', 'on_3b', 'on_2b', 'on_1b',\n",
        "       'outs_when_up', 'inning', 'inning_topbot', \n",
        "       'fielder_2',  'game_pk', 'pitcher.1',\n",
        "       'fielder_2.1', 'fielder_3', 'fielder_4', 'fielder_5', 'fielder_6',\n",
        "       'fielder_7', 'fielder_8', 'fielder_9', \n",
        "       'at_bat_number', 'pitch_number',\n",
        "       'home_score', 'away_score', 'bat_score', 'fld_score', \n",
        "       'if_fielding_alignment', 'of_fielding_alignment']]\n",
        "\n",
        "\n"
      ],
      "metadata": {
        "colab": {
          "base_uri": "https://localhost:8080/"
        },
        "id": "YAFhtS4wtr0F",
        "outputId": "988e2428-54b5-4df5-e906-916bd7352965"
      },
      "execution_count": 2,
      "outputs": [
        {
          "output_type": "stream",
          "name": "stdout",
          "text": [
            "This is a large query, it may take a moment to complete\n"
          ]
        },
        {
          "output_type": "stream",
          "name": "stderr",
          "text": [
            "100%|██████████| 29/29 [01:04<00:00,  2.22s/it]\n"
          ]
        }
      ]
    },
    {
      "cell_type": "code",
      "source": [],
      "metadata": {
        "id": "8-QxyfaqdsZM"
      },
      "execution_count": null,
      "outputs": []
    },
    {
      "cell_type": "code",
      "source": [
        "data_cleaned.head()\n",
        "df = data_cleaned"
      ],
      "metadata": {
        "id": "brJrxvLYHAu-"
      },
      "execution_count": 3,
      "outputs": []
    },
    {
      "cell_type": "code",
      "source": [
        "pitchCounts = df['pitch_type'].value_counts()\n",
        "\n",
        "for pitch, count in pitchCounts.iteritems():\n",
        "    print(f\"{pitch}: {count}\")\n",
        "\n",
        "#KEY\n",
        "\n",
        "# FF = four-seam fastball\n",
        "# FC = Cutter\n",
        "# SL = slider\n",
        "# SI= Sinker\n",
        "# CH = changeup\n",
        "#Cu curveball\n",
        "#ST  = sweeper\n",
        "#FS splitter\n",
        "#SV = slurve\n",
        "# KC = knuckle-curve\n",
        "\n",
        "#replace FA as FF, CS??, st?, "
      ],
      "metadata": {
        "colab": {
          "base_uri": "https://localhost:8080/"
        },
        "id": "8w9RBKvmM_iN",
        "outputId": "f6af991c-6714-4a80-c23f-406a3e9162b1"
      },
      "execution_count": 4,
      "outputs": [
        {
          "output_type": "stream",
          "name": "stdout",
          "text": [
            "FF: 38904\n",
            "SL: 20141\n",
            "SI: 17778\n",
            "CH: 12574\n",
            "CU: 8690\n",
            "FC: 7501\n",
            "KC: 2496\n",
            "FS: 1680\n",
            "ST: 1388\n",
            "SV: 304\n",
            "FA: 126\n",
            "KN: 57\n",
            "CS: 18\n",
            "EP: 17\n",
            "PO: 9\n"
          ]
        },
        {
          "output_type": "stream",
          "name": "stderr",
          "text": [
            "<ipython-input-4-8479023973c2>:3: FutureWarning: iteritems is deprecated and will be removed in a future version. Use .items instead.\n",
            "  for pitch, count in pitchCounts.iteritems():\n"
          ]
        }
      ]
    },
    {
      "cell_type": "code",
      "source": [
        "pitch_types_to_keep = [\"FF\", \"FC\", \"SL\", \"SI\", \"CH\", \"CU\", \"KC\", \"FS\", \"ST\", \"SV\"] \n",
        "\n",
        "mask = df[\"pitch_type\"].isin(pitch_types_to_keep)\n",
        "filtered_df = df[mask]\n",
        "df = filtered_df\n",
        "df.head()\n"
      ],
      "metadata": {
        "id": "2nm6epMYM_pf",
        "colab": {
          "base_uri": "https://localhost:8080/",
          "height": 386
        },
        "outputId": "6d3be56e-c661-46b8-d14e-d074a299b1d5"
      },
      "execution_count": 5,
      "outputs": [
        {
          "output_type": "execute_result",
          "data": {
            "text/plain": [
              "     pitch_type  game_date  batter  pitcher stand p_throws home_team  \\\n",
              "3392         FF 2021-06-29  660670   621242     R        R       ATL   \n",
              "3512         SL 2021-06-29  467055   621242     L        R       ATL   \n",
              "3516         FF 2021-06-29  501303   621242     L        R       ATL   \n",
              "3682         FF 2021-06-29  501303   621242     L        R       ATL   \n",
              "3809         FF 2021-06-29  501303   621242     L        R       ATL   \n",
              "\n",
              "     away_team  balls  strikes  ...  fielder_8  fielder_9  at_bat_number  \\\n",
              "3392       NYM      0        0  ...     546991     624424             74   \n",
              "3512       NYM      0        0  ...     546991     624424             73   \n",
              "3516       NYM      2        2  ...     546991     624424             72   \n",
              "3682       NYM      2        1  ...     546991     624424             72   \n",
              "3809       NYM      1        1  ...     546991     624424             72   \n",
              "\n",
              "      pitch_number  home_score  away_score bat_score  fld_score  \\\n",
              "3392             1           3           4         3          4   \n",
              "3512             1           3           4         3          4   \n",
              "3516             5           3           4         3          4   \n",
              "3682             4           3           4         3          4   \n",
              "3809             3           3           4         3          4   \n",
              "\n",
              "      if_fielding_alignment  of_fielding_alignment  \n",
              "3392          Infield shift              Strategic  \n",
              "3512          Infield shift              Strategic  \n",
              "3516          Infield shift               Standard  \n",
              "3682          Infield shift               Standard  \n",
              "3809          Infield shift               Standard  \n",
              "\n",
              "[5 rows x 36 columns]"
            ],
            "text/html": [
              "\n",
              "  <div id=\"df-1e5d1d76-46dc-4b0a-920c-f3f115da9a38\">\n",
              "    <div class=\"colab-df-container\">\n",
              "      <div>\n",
              "<style scoped>\n",
              "    .dataframe tbody tr th:only-of-type {\n",
              "        vertical-align: middle;\n",
              "    }\n",
              "\n",
              "    .dataframe tbody tr th {\n",
              "        vertical-align: top;\n",
              "    }\n",
              "\n",
              "    .dataframe thead th {\n",
              "        text-align: right;\n",
              "    }\n",
              "</style>\n",
              "<table border=\"1\" class=\"dataframe\">\n",
              "  <thead>\n",
              "    <tr style=\"text-align: right;\">\n",
              "      <th></th>\n",
              "      <th>pitch_type</th>\n",
              "      <th>game_date</th>\n",
              "      <th>batter</th>\n",
              "      <th>pitcher</th>\n",
              "      <th>stand</th>\n",
              "      <th>p_throws</th>\n",
              "      <th>home_team</th>\n",
              "      <th>away_team</th>\n",
              "      <th>balls</th>\n",
              "      <th>strikes</th>\n",
              "      <th>...</th>\n",
              "      <th>fielder_8</th>\n",
              "      <th>fielder_9</th>\n",
              "      <th>at_bat_number</th>\n",
              "      <th>pitch_number</th>\n",
              "      <th>home_score</th>\n",
              "      <th>away_score</th>\n",
              "      <th>bat_score</th>\n",
              "      <th>fld_score</th>\n",
              "      <th>if_fielding_alignment</th>\n",
              "      <th>of_fielding_alignment</th>\n",
              "    </tr>\n",
              "  </thead>\n",
              "  <tbody>\n",
              "    <tr>\n",
              "      <th>3392</th>\n",
              "      <td>FF</td>\n",
              "      <td>2021-06-29</td>\n",
              "      <td>660670</td>\n",
              "      <td>621242</td>\n",
              "      <td>R</td>\n",
              "      <td>R</td>\n",
              "      <td>ATL</td>\n",
              "      <td>NYM</td>\n",
              "      <td>0</td>\n",
              "      <td>0</td>\n",
              "      <td>...</td>\n",
              "      <td>546991</td>\n",
              "      <td>624424</td>\n",
              "      <td>74</td>\n",
              "      <td>1</td>\n",
              "      <td>3</td>\n",
              "      <td>4</td>\n",
              "      <td>3</td>\n",
              "      <td>4</td>\n",
              "      <td>Infield shift</td>\n",
              "      <td>Strategic</td>\n",
              "    </tr>\n",
              "    <tr>\n",
              "      <th>3512</th>\n",
              "      <td>SL</td>\n",
              "      <td>2021-06-29</td>\n",
              "      <td>467055</td>\n",
              "      <td>621242</td>\n",
              "      <td>L</td>\n",
              "      <td>R</td>\n",
              "      <td>ATL</td>\n",
              "      <td>NYM</td>\n",
              "      <td>0</td>\n",
              "      <td>0</td>\n",
              "      <td>...</td>\n",
              "      <td>546991</td>\n",
              "      <td>624424</td>\n",
              "      <td>73</td>\n",
              "      <td>1</td>\n",
              "      <td>3</td>\n",
              "      <td>4</td>\n",
              "      <td>3</td>\n",
              "      <td>4</td>\n",
              "      <td>Infield shift</td>\n",
              "      <td>Strategic</td>\n",
              "    </tr>\n",
              "    <tr>\n",
              "      <th>3516</th>\n",
              "      <td>FF</td>\n",
              "      <td>2021-06-29</td>\n",
              "      <td>501303</td>\n",
              "      <td>621242</td>\n",
              "      <td>L</td>\n",
              "      <td>R</td>\n",
              "      <td>ATL</td>\n",
              "      <td>NYM</td>\n",
              "      <td>2</td>\n",
              "      <td>2</td>\n",
              "      <td>...</td>\n",
              "      <td>546991</td>\n",
              "      <td>624424</td>\n",
              "      <td>72</td>\n",
              "      <td>5</td>\n",
              "      <td>3</td>\n",
              "      <td>4</td>\n",
              "      <td>3</td>\n",
              "      <td>4</td>\n",
              "      <td>Infield shift</td>\n",
              "      <td>Standard</td>\n",
              "    </tr>\n",
              "    <tr>\n",
              "      <th>3682</th>\n",
              "      <td>FF</td>\n",
              "      <td>2021-06-29</td>\n",
              "      <td>501303</td>\n",
              "      <td>621242</td>\n",
              "      <td>L</td>\n",
              "      <td>R</td>\n",
              "      <td>ATL</td>\n",
              "      <td>NYM</td>\n",
              "      <td>2</td>\n",
              "      <td>1</td>\n",
              "      <td>...</td>\n",
              "      <td>546991</td>\n",
              "      <td>624424</td>\n",
              "      <td>72</td>\n",
              "      <td>4</td>\n",
              "      <td>3</td>\n",
              "      <td>4</td>\n",
              "      <td>3</td>\n",
              "      <td>4</td>\n",
              "      <td>Infield shift</td>\n",
              "      <td>Standard</td>\n",
              "    </tr>\n",
              "    <tr>\n",
              "      <th>3809</th>\n",
              "      <td>FF</td>\n",
              "      <td>2021-06-29</td>\n",
              "      <td>501303</td>\n",
              "      <td>621242</td>\n",
              "      <td>L</td>\n",
              "      <td>R</td>\n",
              "      <td>ATL</td>\n",
              "      <td>NYM</td>\n",
              "      <td>1</td>\n",
              "      <td>1</td>\n",
              "      <td>...</td>\n",
              "      <td>546991</td>\n",
              "      <td>624424</td>\n",
              "      <td>72</td>\n",
              "      <td>3</td>\n",
              "      <td>3</td>\n",
              "      <td>4</td>\n",
              "      <td>3</td>\n",
              "      <td>4</td>\n",
              "      <td>Infield shift</td>\n",
              "      <td>Standard</td>\n",
              "    </tr>\n",
              "  </tbody>\n",
              "</table>\n",
              "<p>5 rows × 36 columns</p>\n",
              "</div>\n",
              "      <button class=\"colab-df-convert\" onclick=\"convertToInteractive('df-1e5d1d76-46dc-4b0a-920c-f3f115da9a38')\"\n",
              "              title=\"Convert this dataframe to an interactive table.\"\n",
              "              style=\"display:none;\">\n",
              "        \n",
              "  <svg xmlns=\"http://www.w3.org/2000/svg\" height=\"24px\"viewBox=\"0 0 24 24\"\n",
              "       width=\"24px\">\n",
              "    <path d=\"M0 0h24v24H0V0z\" fill=\"none\"/>\n",
              "    <path d=\"M18.56 5.44l.94 2.06.94-2.06 2.06-.94-2.06-.94-.94-2.06-.94 2.06-2.06.94zm-11 1L8.5 8.5l.94-2.06 2.06-.94-2.06-.94L8.5 2.5l-.94 2.06-2.06.94zm10 10l.94 2.06.94-2.06 2.06-.94-2.06-.94-.94-2.06-.94 2.06-2.06.94z\"/><path d=\"M17.41 7.96l-1.37-1.37c-.4-.4-.92-.59-1.43-.59-.52 0-1.04.2-1.43.59L10.3 9.45l-7.72 7.72c-.78.78-.78 2.05 0 2.83L4 21.41c.39.39.9.59 1.41.59.51 0 1.02-.2 1.41-.59l7.78-7.78 2.81-2.81c.8-.78.8-2.07 0-2.86zM5.41 20L4 18.59l7.72-7.72 1.47 1.35L5.41 20z\"/>\n",
              "  </svg>\n",
              "      </button>\n",
              "      \n",
              "  <style>\n",
              "    .colab-df-container {\n",
              "      display:flex;\n",
              "      flex-wrap:wrap;\n",
              "      gap: 12px;\n",
              "    }\n",
              "\n",
              "    .colab-df-convert {\n",
              "      background-color: #E8F0FE;\n",
              "      border: none;\n",
              "      border-radius: 50%;\n",
              "      cursor: pointer;\n",
              "      display: none;\n",
              "      fill: #1967D2;\n",
              "      height: 32px;\n",
              "      padding: 0 0 0 0;\n",
              "      width: 32px;\n",
              "    }\n",
              "\n",
              "    .colab-df-convert:hover {\n",
              "      background-color: #E2EBFA;\n",
              "      box-shadow: 0px 1px 2px rgba(60, 64, 67, 0.3), 0px 1px 3px 1px rgba(60, 64, 67, 0.15);\n",
              "      fill: #174EA6;\n",
              "    }\n",
              "\n",
              "    [theme=dark] .colab-df-convert {\n",
              "      background-color: #3B4455;\n",
              "      fill: #D2E3FC;\n",
              "    }\n",
              "\n",
              "    [theme=dark] .colab-df-convert:hover {\n",
              "      background-color: #434B5C;\n",
              "      box-shadow: 0px 1px 3px 1px rgba(0, 0, 0, 0.15);\n",
              "      filter: drop-shadow(0px 1px 2px rgba(0, 0, 0, 0.3));\n",
              "      fill: #FFFFFF;\n",
              "    }\n",
              "  </style>\n",
              "\n",
              "      <script>\n",
              "        const buttonEl =\n",
              "          document.querySelector('#df-1e5d1d76-46dc-4b0a-920c-f3f115da9a38 button.colab-df-convert');\n",
              "        buttonEl.style.display =\n",
              "          google.colab.kernel.accessAllowed ? 'block' : 'none';\n",
              "\n",
              "        async function convertToInteractive(key) {\n",
              "          const element = document.querySelector('#df-1e5d1d76-46dc-4b0a-920c-f3f115da9a38');\n",
              "          const dataTable =\n",
              "            await google.colab.kernel.invokeFunction('convertToInteractive',\n",
              "                                                     [key], {});\n",
              "          if (!dataTable) return;\n",
              "\n",
              "          const docLinkHtml = 'Like what you see? Visit the ' +\n",
              "            '<a target=\"_blank\" href=https://colab.research.google.com/notebooks/data_table.ipynb>data table notebook</a>'\n",
              "            + ' to learn more about interactive tables.';\n",
              "          element.innerHTML = '';\n",
              "          dataTable['output_type'] = 'display_data';\n",
              "          await google.colab.output.renderOutput(dataTable, element);\n",
              "          const docLink = document.createElement('div');\n",
              "          docLink.innerHTML = docLinkHtml;\n",
              "          element.appendChild(docLink);\n",
              "        }\n",
              "      </script>\n",
              "    </div>\n",
              "  </div>\n",
              "  "
            ]
          },
          "metadata": {},
          "execution_count": 5
        }
      ]
    },
    {
      "cell_type": "code",
      "source": [
        "#Merge pitch types, sweeper into slider, splitter into sinker, slurve to curve\n",
        "df[\"pitch_type\"] = df[\"pitch_type\"].replace(\"ST\", \"SL\")\n",
        "df[\"pitch_type\"] = df[\"pitch_type\"].replace(\"FS\", \"SI\")\n",
        "df[\"pitch_type\"] = df[\"pitch_type\"].replace(\"SV\", \"CU\")\n"
      ],
      "metadata": {
        "colab": {
          "base_uri": "https://localhost:8080/"
        },
        "id": "EAI4BWpbV9pZ",
        "outputId": "5074a2f3-307d-4563-a79b-29995d5f16f7"
      },
      "execution_count": 6,
      "outputs": [
        {
          "output_type": "stream",
          "name": "stderr",
          "text": [
            "<ipython-input-6-45048df09127>:2: SettingWithCopyWarning: \n",
            "A value is trying to be set on a copy of a slice from a DataFrame.\n",
            "Try using .loc[row_indexer,col_indexer] = value instead\n",
            "\n",
            "See the caveats in the documentation: https://pandas.pydata.org/pandas-docs/stable/user_guide/indexing.html#returning-a-view-versus-a-copy\n",
            "  df[\"pitch_type\"] = df[\"pitch_type\"].replace(\"ST\", \"SL\")\n",
            "<ipython-input-6-45048df09127>:3: SettingWithCopyWarning: \n",
            "A value is trying to be set on a copy of a slice from a DataFrame.\n",
            "Try using .loc[row_indexer,col_indexer] = value instead\n",
            "\n",
            "See the caveats in the documentation: https://pandas.pydata.org/pandas-docs/stable/user_guide/indexing.html#returning-a-view-versus-a-copy\n",
            "  df[\"pitch_type\"] = df[\"pitch_type\"].replace(\"FS\", \"SI\")\n",
            "<ipython-input-6-45048df09127>:4: SettingWithCopyWarning: \n",
            "A value is trying to be set on a copy of a slice from a DataFrame.\n",
            "Try using .loc[row_indexer,col_indexer] = value instead\n",
            "\n",
            "See the caveats in the documentation: https://pandas.pydata.org/pandas-docs/stable/user_guide/indexing.html#returning-a-view-versus-a-copy\n",
            "  df[\"pitch_type\"] = df[\"pitch_type\"].replace(\"SV\", \"CU\")\n"
          ]
        }
      ]
    },
    {
      "cell_type": "code",
      "source": [
        "df2 = df.copy()\n"
      ],
      "metadata": {
        "id": "kPSG-EZ-ZWbn"
      },
      "execution_count": 7,
      "outputs": []
    },
    {
      "cell_type": "code",
      "source": [
        "import pandas as pd\n",
        "#to process stand, p throws, home team, away team,\n",
        "# on bases, inning top bot, if fielding, of fielding\n",
        "#to drop, pitchname, gametype\n",
        "rl_dict = {\"R\": 0, \"L\": 1}\n",
        "df2[\"stand\"] = df[\"stand\"].map(rl_dict)\n",
        "df2[\"p_throws\"] = df[\"p_throws\"].map(rl_dict)\n"
      ],
      "metadata": {
        "id": "Jdo3IbQxYlJ3"
      },
      "execution_count": 8,
      "outputs": []
    },
    {
      "cell_type": "code",
      "source": [
        "unique_teams = df[\"home_team\"].unique()\n",
        "team_map = {team: i for i, team in enumerate(unique_teams)}\n",
        "df2[\"home_team\"] = df[\"home_team\"].replace(team_map)\n",
        "df2[\"away_team\"] = df[\"away_team\"].replace(team_map)\n"
      ],
      "metadata": {
        "id": "TwrDwH-afMeM"
      },
      "execution_count": 9,
      "outputs": []
    },
    {
      "cell_type": "code",
      "source": [
        "rl_dict = {\"Bot\": 0, \"Top\": 1}\n",
        "df2[\"inning_topbot\"] = df[\"inning_topbot\"].map(rl_dict)\n"
      ],
      "metadata": {
        "id": "YGyQFKZgfw7q"
      },
      "execution_count": 10,
      "outputs": []
    },
    {
      "cell_type": "code",
      "source": [
        "df2[\"if_fielding_alignment\"].fillna(\"Standard\", inplace=True)\n",
        "infieldShifts = df[\"if_fielding_alignment\"].unique()\n",
        "shiftmap = {team: i for i, team in enumerate(infieldShifts)}\n",
        "print(shiftmap)\n",
        "df2[\"if_fielding_alignment\"] = df2[\"if_fielding_alignment\"].replace(shiftmap)\n",
        "\n",
        "df2[\"of_fielding_alignment\"].fillna(\"Standard\", inplace=True)\n",
        "outfield = df[\"of_fielding_alignment\"].unique()\n",
        "shiftmap = {team: i for i, team in enumerate(outfield)}\n",
        "print(shiftmap)\n",
        "df2[\"of_fielding_alignment\"] = df2[\"of_fielding_alignment\"].replace(shiftmap)\n",
        "\n",
        "\n"
      ],
      "metadata": {
        "colab": {
          "base_uri": "https://localhost:8080/"
        },
        "id": "_fOVc7pGgLgg",
        "outputId": "4ea1ec13-c751-41ae-e144-dd3f56e26656"
      },
      "execution_count": 11,
      "outputs": [
        {
          "output_type": "stream",
          "name": "stdout",
          "text": [
            "{'Infield shift': 0, 'Standard': 1, 'Strategic': 2, nan: 3}\n",
            "{'Strategic': 0, 'Standard': 1, '4th outfielder': 2, nan: 3}\n"
          ]
        }
      ]
    },
    {
      "cell_type": "code",
      "source": [
        "df2['on_1b'].fillna(0, inplace=True)\n",
        "df2['on_1b'] = df2['on_1b'].map(lambda x: 0 if pd.isna(x) or x==0 else 1)\n",
        "df2['on_2b'].fillna(0, inplace=True)\n",
        "df2['on_2b'] = df2['on_2b'].map(lambda x: 0 if pd.isna(x) or x==0 else 1)\n",
        "df2['on_3b'].fillna(0, inplace=True)\n",
        "df2['on_3b'] = df2['on_3b'].map(lambda x: 0 if pd.isna(x) or x==0 else 1)\n",
        "\n",
        "# Replace non-zero values with one\n"
      ],
      "metadata": {
        "id": "4guH3ESOmzsl"
      },
      "execution_count": 12,
      "outputs": []
    },
    {
      "cell_type": "code",
      "source": [
        "\n",
        "pitches = df[\"pitch_type\"].unique()\n",
        "pitchmap = {team: i for i, team in enumerate(pitches)}\n",
        "print(pitchmap)\n",
        "df2[\"pitch_type\"] = df2[\"pitch_type\"].replace(pitchmap)"
      ],
      "metadata": {
        "colab": {
          "base_uri": "https://localhost:8080/"
        },
        "id": "NBqLChzTooc4",
        "outputId": "0137bdc0-35b3-44c1-affc-29d1a9f1e849"
      },
      "execution_count": 13,
      "outputs": [
        {
          "output_type": "stream",
          "name": "stdout",
          "text": [
            "{'FF': 0, 'SL': 1, 'CU': 2, 'SI': 3, 'FC': 4, 'CH': 5, 'KC': 6}\n"
          ]
        }
      ]
    },
    {
      "cell_type": "markdown",
      "source": [
        "{'FF': 0, 'SL': 1, 'CU': 2, 'SI': 3, 'FC': 4, 'CH': 5, 'KC': 6}\n"
      ],
      "metadata": {
        "id": "ldiTH7Rio2OG"
      }
    },
    {
      "cell_type": "code",
      "source": [],
      "metadata": {
        "id": "kuKr5JeOl2tR"
      },
      "execution_count": null,
      "outputs": []
    },
    {
      "cell_type": "code",
      "source": [
        "df2.to_csv(\"baseball.csv\", index = False)\n",
        "\n",
        "!cp baseball.csv \"/content/drive/MyDrive/colab/\""
      ],
      "metadata": {
        "id": "a8OnoUSJtr8b"
      },
      "execution_count": 14,
      "outputs": []
    },
    {
      "cell_type": "code",
      "source": [
        "data = df2.copy()\n",
        "#data['day'] = data['gameday'].dt.day\n",
        "data.info()"
      ],
      "metadata": {
        "id": "yxy-GXHgpORl",
        "colab": {
          "base_uri": "https://localhost:8080/"
        },
        "outputId": "8bbcd724-8eab-48f4-82d4-e9905aefbb38"
      },
      "execution_count": 15,
      "outputs": [
        {
          "output_type": "stream",
          "name": "stdout",
          "text": [
            "<class 'pandas.core.frame.DataFrame'>\n",
            "Int64Index: 111456 entries, 3392 to 4542\n",
            "Data columns (total 36 columns):\n",
            " #   Column                 Non-Null Count   Dtype         \n",
            "---  ------                 --------------   -----         \n",
            " 0   pitch_type             111456 non-null  int64         \n",
            " 1   game_date              111456 non-null  datetime64[ns]\n",
            " 2   batter                 111456 non-null  Int64         \n",
            " 3   pitcher                111456 non-null  Int64         \n",
            " 4   stand                  111456 non-null  int64         \n",
            " 5   p_throws               111456 non-null  int64         \n",
            " 6   home_team              111456 non-null  int64         \n",
            " 7   away_team              111456 non-null  int64         \n",
            " 8   balls                  111456 non-null  Int64         \n",
            " 9   strikes                111456 non-null  Int64         \n",
            " 10  game_year              111456 non-null  Int64         \n",
            " 11  on_3b                  111456 non-null  int64         \n",
            " 12  on_2b                  111456 non-null  int64         \n",
            " 13  on_1b                  111456 non-null  int64         \n",
            " 14  outs_when_up           111456 non-null  Int64         \n",
            " 15  inning                 111456 non-null  Int64         \n",
            " 16  inning_topbot          111456 non-null  int64         \n",
            " 17  fielder_2              111456 non-null  Int64         \n",
            " 18  game_pk                111456 non-null  Int64         \n",
            " 19  pitcher.1              111456 non-null  Int64         \n",
            " 20  fielder_2.1            111456 non-null  Int64         \n",
            " 21  fielder_3              111456 non-null  Int64         \n",
            " 22  fielder_4              111456 non-null  Int64         \n",
            " 23  fielder_5              111456 non-null  Int64         \n",
            " 24  fielder_6              111456 non-null  Int64         \n",
            " 25  fielder_7              111456 non-null  Int64         \n",
            " 26  fielder_8              111456 non-null  Int64         \n",
            " 27  fielder_9              111456 non-null  Int64         \n",
            " 28  at_bat_number          111456 non-null  Int64         \n",
            " 29  pitch_number           111456 non-null  Int64         \n",
            " 30  home_score             111456 non-null  Int64         \n",
            " 31  away_score             111456 non-null  Int64         \n",
            " 32  bat_score              111456 non-null  Int64         \n",
            " 33  fld_score              111456 non-null  Int64         \n",
            " 34  if_fielding_alignment  111456 non-null  int64         \n",
            " 35  of_fielding_alignment  111456 non-null  int64         \n",
            "dtypes: Int64(24), datetime64[ns](1), int64(11)\n",
            "memory usage: 34.0 MB\n"
          ]
        }
      ]
    },
    {
      "cell_type": "code",
      "source": [
        "data = df2.copy()\n",
        "data['game_day'] = data['game_date'].dt.day\n",
        "data.drop('game_date', axis=1, inplace=True)\n",
        "data.info()"
      ],
      "metadata": {
        "colab": {
          "base_uri": "https://localhost:8080/"
        },
        "outputId": "4046d59a-dd07-4c00-c751-75b11d7f060d",
        "id": "uRos7e4ks7hR"
      },
      "execution_count": 16,
      "outputs": [
        {
          "output_type": "stream",
          "name": "stdout",
          "text": [
            "<class 'pandas.core.frame.DataFrame'>\n",
            "Int64Index: 111456 entries, 3392 to 4542\n",
            "Data columns (total 36 columns):\n",
            " #   Column                 Non-Null Count   Dtype\n",
            "---  ------                 --------------   -----\n",
            " 0   pitch_type             111456 non-null  int64\n",
            " 1   batter                 111456 non-null  Int64\n",
            " 2   pitcher                111456 non-null  Int64\n",
            " 3   stand                  111456 non-null  int64\n",
            " 4   p_throws               111456 non-null  int64\n",
            " 5   home_team              111456 non-null  int64\n",
            " 6   away_team              111456 non-null  int64\n",
            " 7   balls                  111456 non-null  Int64\n",
            " 8   strikes                111456 non-null  Int64\n",
            " 9   game_year              111456 non-null  Int64\n",
            " 10  on_3b                  111456 non-null  int64\n",
            " 11  on_2b                  111456 non-null  int64\n",
            " 12  on_1b                  111456 non-null  int64\n",
            " 13  outs_when_up           111456 non-null  Int64\n",
            " 14  inning                 111456 non-null  Int64\n",
            " 15  inning_topbot          111456 non-null  int64\n",
            " 16  fielder_2              111456 non-null  Int64\n",
            " 17  game_pk                111456 non-null  Int64\n",
            " 18  pitcher.1              111456 non-null  Int64\n",
            " 19  fielder_2.1            111456 non-null  Int64\n",
            " 20  fielder_3              111456 non-null  Int64\n",
            " 21  fielder_4              111456 non-null  Int64\n",
            " 22  fielder_5              111456 non-null  Int64\n",
            " 23  fielder_6              111456 non-null  Int64\n",
            " 24  fielder_7              111456 non-null  Int64\n",
            " 25  fielder_8              111456 non-null  Int64\n",
            " 26  fielder_9              111456 non-null  Int64\n",
            " 27  at_bat_number          111456 non-null  Int64\n",
            " 28  pitch_number           111456 non-null  Int64\n",
            " 29  home_score             111456 non-null  Int64\n",
            " 30  away_score             111456 non-null  Int64\n",
            " 31  bat_score              111456 non-null  Int64\n",
            " 32  fld_score              111456 non-null  Int64\n",
            " 33  if_fielding_alignment  111456 non-null  int64\n",
            " 34  of_fielding_alignment  111456 non-null  int64\n",
            " 35  game_day               111456 non-null  int64\n",
            "dtypes: Int64(24), int64(12)\n",
            "memory usage: 34.0 MB\n"
          ]
        }
      ]
    },
    {
      "cell_type": "code",
      "source": [
        "data.to_csv(\"testdata.csv\", index = False)\n",
        "\n",
        "!cp testdata.csv \"/content/drive/MyDrive/colab/\""
      ],
      "metadata": {
        "id": "PCppB5YwnuKF"
      },
      "execution_count": 39,
      "outputs": []
    },
    {
      "cell_type": "code",
      "source": [],
      "metadata": {
        "id": "7pIwWyATOvmW"
      },
      "execution_count": null,
      "outputs": []
    },
    {
      "cell_type": "code",
      "source": [
        "# Checking for NULLs in the data\n",
        "(data.isnull().sum()>0).any()"
      ],
      "metadata": {
        "colab": {
          "base_uri": "https://localhost:8080/"
        },
        "id": "I7dHI_MHuLzx",
        "outputId": "b6c186d8-897c-4154-e443-47ad55e6445e"
      },
      "execution_count": 17,
      "outputs": [
        {
          "output_type": "execute_result",
          "data": {
            "text/plain": [
              "False"
            ]
          },
          "metadata": {},
          "execution_count": 17
        }
      ]
    },
    {
      "cell_type": "code",
      "source": [
        "# Checking for negative values in the data\n",
        "(data[data<0].count()).sort_values(ascending=False)"
      ],
      "metadata": {
        "colab": {
          "base_uri": "https://localhost:8080/"
        },
        "id": "tWmqeyAIuX7S",
        "outputId": "a9ebb6b8-79d0-4322-f48c-cc592c870edc"
      },
      "execution_count": 18,
      "outputs": [
        {
          "output_type": "execute_result",
          "data": {
            "text/plain": [
              "pitch_type               0\n",
              "batter                   0\n",
              "fielder_3                0\n",
              "fielder_4                0\n",
              "fielder_5                0\n",
              "fielder_6                0\n",
              "fielder_7                0\n",
              "fielder_8                0\n",
              "fielder_9                0\n",
              "at_bat_number            0\n",
              "pitch_number             0\n",
              "home_score               0\n",
              "away_score               0\n",
              "bat_score                0\n",
              "fld_score                0\n",
              "if_fielding_alignment    0\n",
              "of_fielding_alignment    0\n",
              "fielder_2.1              0\n",
              "pitcher.1                0\n",
              "game_pk                  0\n",
              "strikes                  0\n",
              "pitcher                  0\n",
              "stand                    0\n",
              "p_throws                 0\n",
              "home_team                0\n",
              "away_team                0\n",
              "balls                    0\n",
              "game_year                0\n",
              "fielder_2                0\n",
              "on_3b                    0\n",
              "on_2b                    0\n",
              "on_1b                    0\n",
              "outs_when_up             0\n",
              "inning                   0\n",
              "inning_topbot            0\n",
              "game_day                 0\n",
              "dtype: int64"
            ]
          },
          "metadata": {},
          "execution_count": 18
        }
      ]
    },
    {
      "cell_type": "markdown",
      "source": [
        "# Splitting into Test and Training Datasets"
      ],
      "metadata": {
        "id": "dAYkuj3YqVVJ"
      }
    },
    {
      "cell_type": "code",
      "source": [
        "import pandas as pd\n",
        "from sklearn.model_selection import train_test_split\n",
        "\n",
        "# Shuffle the dataset\n",
        "data = data.sample(frac=1, random_state=42)\n",
        "\n",
        "# Split the dataset into training and test sets\n",
        "x_train, x_test, y_train, y_test = train_test_split(data.iloc[:,1:], data.iloc[:,0], test_size=0.2, random_state=42)\n",
        "# Save the data and labels to a CSV file\n",
        "x_train.to_csv('train_data.csv', index=False)\n",
        "y_train.to_csv('train_labels.csv', index=False)\n",
        "x_test.to_csv('test_data.csv', index=False)\n",
        "y_test.to_csv('test_labels.csv', index=False)\n"
      ],
      "metadata": {
        "id": "JXYIN6DRnpPS"
      },
      "execution_count": 19,
      "outputs": []
    },
    {
      "cell_type": "code",
      "source": [
        "# Balance in the label of training dataset\n",
        "class_counts = 100 * y_train.value_counts() / len(y_train)\n",
        "print(class_counts)"
      ],
      "metadata": {
        "colab": {
          "base_uri": "https://localhost:8080/"
        },
        "id": "aRDHb6ghxKtu",
        "outputId": "19385617-df00-4f83-c2cb-9b75e2900fb7"
      },
      "execution_count": 20,
      "outputs": [
        {
          "output_type": "stream",
          "name": "stdout",
          "text": [
            "0    35.071329\n",
            "1    19.258894\n",
            "3    17.372482\n",
            "5    11.266879\n",
            "2     8.045848\n",
            "4     6.742632\n",
            "6     2.241936\n",
            "Name: pitch_type, dtype: float64\n"
          ]
        }
      ]
    },
    {
      "cell_type": "code",
      "source": [
        "from sklearn import preprocessing\n",
        "from sklearn.metrics import accuracy_score\n",
        "scaler = preprocessing.StandardScaler()\n",
        "x_train = scaler.fit_transform(x_train)\n",
        "x_test = scaler.transform(x_test)"
      ],
      "metadata": {
        "id": "fIBH_08anaeA"
      },
      "execution_count": 21,
      "outputs": []
    },
    {
      "cell_type": "markdown",
      "source": [
        "#A general template for various methods that we can try"
      ],
      "metadata": {
        "id": "mY5wZFN9QUXl"
      }
    },
    {
      "cell_type": "code",
      "source": [
        "# Define the logistic regression model\n",
        "clf = LogisticRegression(multi_class='multinomial', solver='saga', tol=0.001, max_iter=10000, class_weight='balanced')\n",
        "\n",
        "# Define parameter ranges for grid search\n",
        "param_grid = {'penalty': ['l1','l2'],\n",
        "              'C': [0.0001, 0.0005, 0.001,0.005, 0.01,0.05, 0.1,0.5, 1, 10, 100]}\n",
        "\n",
        "# Perform grid search to find the best model parameters\n",
        "clf = GridSearchCV(clf, param_grid, cv=3, scoring='roc_auc_ovr')\n",
        "clf.fit(x_train, y_train.values.ravel())\n",
        "\n",
        "# Print the best parameters and score\n",
        "print(\"Best parameters: \", clf.best_params_)\n",
        "print(\"Best score: \", clf.best_score_)\n",
        "\n",
        "# Make predictions on the test data using the best model\n",
        "y_pred = clf.predict_proba(x_test)\n",
        "\n",
        "# Calculate and print the ROC AUC score\n",
        "accuracy = roc_auc_score(y_test, y_pred, multi_class='ovr')\n",
        "print(\"ROC AUC score for the test set:\", accuracy)"
      ],
      "metadata": {
        "id": "Y5mf5ckGQucU"
      },
      "execution_count": null,
      "outputs": []
    },
    {
      "cell_type": "code",
      "source": [
        "# Deep Learning\n",
        "from sklearn.preprocessing import StandardScaler\n",
        "from tensorflow.keras.models import Sequential\n",
        "from tensorflow.keras.layers import Dense, Dropout\n",
        "from tensorflow.keras.optimizers import Adam\n",
        "from keras.wrappers.scikit_learn import KerasClassifier\n",
        "from sklearn.model_selection import StratifiedKFold\n",
        "from sklearn.pipeline import Pipeline\n",
        "from sklearn.model_selection import GridSearchCV\n",
        "from sklearn.metrics import roc_auc_score\n",
        "\n",
        "def create_model(class_weights = { 0: 1, 1: 1, 2: 2, 3: 2, 4: 3, 5: 3, 6: 4}, neurons=128, dropout_rate=0.5, learning_rate=0.001):\n",
        "    model = Sequential()\n",
        "    model.add(Dense(neurons, input_dim=x_train.shape[1], activation='relu'))\n",
        "    model.add(Dropout(dropout_rate))\n",
        "    model.add(Dense(neurons//2, activation='relu'))\n",
        "    model.add(Dropout(dropout_rate))\n",
        "    model.add(Dense(neurons//4, activation='relu'))\n",
        "    model.add(Dropout(dropout_rate))\n",
        "    model.add(Dense(len(np.unique(y_train)), activation='softmax'))\n",
        "    model.compile(loss='sparse_categorical_crossentropy', optimizer=Adam(learning_rate=learning_rate), metrics=['accuracy'])\n",
        "    return model\n",
        "\n",
        "# define the pipeline\n",
        "estimators = []\n",
        "estimators.append(('standardize', StandardScaler()))\n",
        "estimators.append(('mlp', KerasClassifier(build_fn=create_model, epochs=30, batch_size=16, verbose=0)))\n",
        "pipeline = Pipeline(estimators)\n",
        "\n",
        "# define the grid search parameters\n",
        "learning_rate = [0.001, 0.01, 0.1]\n",
        "neurons = [64, 128, 256, 512]\n",
        "dropout_rate = [0.2, 0.5, 0.8]\n",
        "class_weights = [{0: 1/34.876183, 1: 1/19.300390, 2: 1/8.131084, 3: 1/17.536225, 4: 1/6.725809, 5: 1/11.189494, 6: 1/2.240815}, \n",
        "                 {0: 1, 1: 1, 2: 2, 3: 2, 4: 3, 5: 3, 6: 4}]\n",
        "param_grid = dict(mlp__class_weights=class_weights, mlp__learning_rate=learning_rate, mlp__neurons=neurons, mlp__dropout_rate=dropout_rate)\n",
        "\n",
        "# perform the cross-validation\n",
        "kfold = StratifiedKFold(n_splits=3, shuffle=True)\n",
        "grid = GridSearchCV(estimator=pipeline, param_grid=param_grid, scoring='roc_auc_ovr', cv=kfold, n_jobs=-1)\n",
        "grid_result = grid.fit(x_train, y_train)\n",
        "\n",
        "# print the results\n",
        "print(\"Best: %f using %s\" % (grid_result.best_score_, grid_result.best_params_))\n",
        "\n",
        "cv_auc_scores = grid_result.cv_results_['mean_test_score']\n",
        "mean_cv_auc_score = cv_auc_scores.mean()\n",
        "print(\"Mean CV AUC score: %.4f \" % (mean_cv_auc_score))\n",
        "\n",
        "# Test the model on the validation data\n",
        "y_pred_proba = grid.predict_proba(x_test)\n",
        "auc = roc_auc_score(y_test, y_pred_proba, multi_class='ovr')\n",
        "print(\"AUC on test data: %.4f\" % auc)"
      ],
      "metadata": {
        "id": "3RKQAjDHxjkD"
      },
      "execution_count": null,
      "outputs": []
    },
    {
      "cell_type": "code",
      "source": [
        "#Random forest\n",
        "from sklearn.model_selection import RandomizedSearchCV, GridSearchCV\n",
        "from sklearn.ensemble import RandomForestClassifier\n",
        "from sklearn.metrics import roc_auc_score\n",
        "# defining the random forest\n",
        "rf = RandomForestClassifier(class_weight='balanced')\n",
        "# setting parameters to try in cross validation for RandomizedSearchCV()\n",
        "param_grid = {'n_estimators': np.arange(30, 60, 10),\n",
        "              'max_depth': np.arange(5,9,2),\n",
        "            'min_samples_split' : np.arange(5,11,5),\n",
        "              'min_samples_leaf' : np.arange(5,15,5),\n",
        "              'max_features': [ 0.9,0.95,0.99],\n",
        "              'random_state': [42]\n",
        "             }\n",
        "\n",
        "# cross-validation to find the best parametters\n",
        "rf = GridSearchCV(estimator = rf, param_grid = param_grid, cv = 3, verbose=2, n_jobs = -1, scoring = 'roc_auc_ovr')\n",
        "\n",
        "# fitting\n",
        "rf.fit(x_train, y_train.values.ravel())\n",
        "\n",
        "# printing the best parameters and score\n",
        "print(\"Best parameters: \", rf.best_params_)\n",
        "print(\"Best score: \", rf.best_score_)\n",
        "\n",
        "# calculating the test accuracy\n",
        "y_pred = rf.predict_proba(x_test)\n",
        "auc = roc_auc_score(y_test, y_pred, multi_class = 'ovr')\n",
        "print(\"Auc:\", auc)"
      ],
      "metadata": {
        "id": "BS5ZoJNuPrbD"
      },
      "execution_count": null,
      "outputs": []
    },
    {
      "cell_type": "code",
      "source": [
        "#XGBoost\n",
        "import xgboost as xgb\n",
        "from sklearn.model_selection import RandomizedSearchCV\n",
        "# defining the xgboost regressor\n",
        "xgb_model = xgb.XGBClassifier()\n",
        "\n",
        "# defining the parameter grid to search over\n",
        "param_grid = {\n",
        "    'max_depth': [3, 5, 7],\n",
        "    'learning_rate': [0.05, 0.1],\n",
        "    'n_estimators': [40],\n",
        "    'subsample': [0.5, 1],\n",
        "    'colsample_bytree': [0.8, 1],\n",
        "    'reg_alpha': [0.5],\n",
        "    'reg_lambda': [0.2]\n",
        "}\n",
        "\n",
        "# use RandomizedSearchCV to search for best hyperparameters\n",
        "xgb_model = GridSearchCV(estimator = xgb_model, param_grid = param_grid, cv = 3, verbose=2, n_jobs = -1, scoring = 'roc_auc_ovr')\n",
        "\n",
        "xgb_model.fit(x_train, y_train)\n",
        "\n",
        "# printing best parameters and best score\n",
        "print(\"Best parameters: \", xgb_model.best_params_)\n",
        "print(\"Best score: \", xgb_model.best_score_)\n",
        "\n",
        "# Make predictions on the test data using the best model\n",
        "y_pred = xgb_model.predict_proba(x_test)\n",
        "\n",
        "# printing the accuracy\n",
        "accuracy = roc_auc_score(y_test, y_pred, multi_class = 'ovr')\n",
        "print(\"Accuracy score:\", accuracy)"
      ],
      "metadata": {
        "id": "_IXdVzUOQTAJ"
      },
      "execution_count": null,
      "outputs": []
    },
    {
      "cell_type": "code",
      "source": [
        "#Decision Tree\n",
        "from sklearn.tree import DecisionTreeClassifier\n",
        "# defining the logistic regrassion\n",
        "df = DecisionTreeClassifier()\n",
        "\n",
        "# defining parameter ranges\n",
        "param_grid = {\n",
        "    'max_depth': [10, 15, 20, 30],\n",
        "    'min_samples_split': [3,5,7],\n",
        "    'min_samples_leaf': [9,10,11,12],\n",
        "    'max_features':[0.9,0.95,1]\n",
        "}\n",
        "\n",
        "# cross validation grid search to find the best parameters\n",
        "df = GridSearchCV(df, param_grid = param_grid, cv=3, scoring='roc_auc_ovr')\n",
        "\n",
        "# fitting\n",
        "df.fit(x_train, y_train.values.ravel())\n",
        "\n",
        "# printing best parameters and best score\n",
        "print(\"Best parameters: \", df.best_params_)\n",
        "print(\"Best score: \", df.best_score_)\n",
        "\n",
        "# Make predictions on the test data using the best model\n",
        "y_pred = df.predict_proba(x_test)\n",
        "\n",
        "# printing the accuracy\n",
        "accuracy = roc_auc_score(y_test, y_pred, multi_class='ovr')\n",
        "print(\"Accuracy score:\", accuracy)"
      ],
      "metadata": {
        "id": "IEPeyW7qQ250"
      },
      "execution_count": null,
      "outputs": []
    },
    {
      "cell_type": "code",
      "source": [
        "#Bagging\n",
        "from sklearn.ensemble import BaggingClassifier\n",
        "from scipy.stats import uniform, randint\n",
        "# defining bagging classifier\n",
        "bf = BaggingClassifier()\n",
        "\n",
        "# defining parameter ranges\n",
        "param_grid = {\n",
        "    'n_estimators': np.arange(10, 20,10),\n",
        "    'max_samples': np.arange(0.1, 1,0.1),\n",
        "    'max_features': np.arange(0.5, 1,0.1),\n",
        "    'bootstrap': [True, False],\n",
        "    'bootstrap_features': [True, False]\n",
        "}\n",
        "\n",
        "bf = GridSearchCV(bf, param_grid, cv=3, scoring='roc_auc_ovr', random_state=42)\n",
        "\n",
        "# fitting\n",
        "bf.fit(x_train, y_train.values.ravel())\n",
        "\n",
        "# printing best parameters and best score\n",
        "print(\"Best parameters: \", bf.best_params_)\n",
        "print(\"Best score: \", bf.best_score_)\n",
        "\n",
        "# Make predictions on the test data using the best model\n",
        "y_pred = bf.predict_proba(x_test)\n",
        "\n",
        "# printing the accuracy\n",
        "accuracy = roc_auc_score(y_test, y_pred, multi_class='ovr')\n",
        "print(\"Accuracy score:\", accuracy)"
      ],
      "metadata": {
        "id": "dJgqZxH3Q7-r"
      },
      "execution_count": null,
      "outputs": []
    },
    {
      "cell_type": "code",
      "source": [
        "#Support Vector Machines\n",
        "from sklearn.svm import SVC\n",
        "from scipy.stats import reciprocal, uniform\n",
        "meta_model = SVC(probability=True)\n",
        "param_dist = {\n",
        "    'C': np.arange(0.1, 10,1),\n",
        "    'kernel': ['linear', 'rbf', 'poly', 'sigmoid'],\n",
        "    'degree': [1],\n",
        "    'gamma': ['scale', 'auto']\n",
        "}\n",
        "meta_model = RandomizedSearchCV(estimator = meta_model, param_distributions = param_dist, n_iter = 10, cv = 3, verbose=2, random_state=42, n_jobs = -1, scoring = 'roc_auc_ovr')\n",
        "\n",
        "meta_model.fit(x_train, y_train.values.ravel())\n",
        "# printing the best parameters and score\n",
        "print(\"Best parameters: \", meta_model.best_params_)\n",
        "print(\"Best score: \", meta_model.best_score_)\n",
        "\n",
        "# Make predictions on the test data using the best model\n",
        "y_pred = meta_model.predict_proba(x_test)\n",
        "\n",
        "# printing the accuracy\n",
        "accuracy = roc_auc_score(y_test, y_pred, multi_class='ovr')\n",
        "print(\"Accuracy score:\", accuracy)"
      ],
      "metadata": {
        "id": "2fy2v73-RJHh"
      },
      "execution_count": null,
      "outputs": []
    },
    {
      "cell_type": "code",
      "source": [
        "#Gradient Boosting\n",
        "from sklearn.metrics import confusion_matrix, accuracy_score, roc_auc_score\n",
        "from sklearn.ensemble import GradientBoostingClassifier\n",
        "from sklearn.model_selection import RandomizedSearchCV, GridSearchCV\n",
        "\n",
        "# defining the random forest\n",
        "gbc = GradientBoostingClassifier(random_state=42)\n",
        "\n",
        "param_grid = {'n_estimators': [50],\n",
        "              'learning_rate': [ 0.1],\n",
        "              'max_depth': [ 10],\n",
        "              'min_samples_split': [ 8],\n",
        "             'max_features': ['log2'],\n",
        "             'subsample': [1.0]}\n",
        "\n",
        "# cross-validation to find the best parametters\n",
        "gbc = GridSearchCV(estimator = gbc, param_grid = param_grid, cv = 3, verbose=2, n_jobs = -1, scoring = 'roc_auc_ovr')\n",
        "# fitting\n",
        "gbc.fit(x_train, y_train.values.ravel())\n",
        "\n",
        "# printing the best parameters and score\n",
        "print(\"Best parameters: \", gbc.best_params_)\n",
        "print(\"Best score: \", gbc.best_score_)\n",
        "\n",
        "# calculating the test accuracy\n",
        "y_pred = gbc.predict_proba(x_test)\n",
        "\n",
        "auc = roc_auc_score(y_test, y_pred, multi_class= 'ovr')\n",
        "#accuracy = accuracy_score(y_test, y_pred)\n",
        "#cm = confusion_matrix(y_test, y_pred)\n",
        "print(\"Auc:\", auc)\n",
        "#print(\"Accuracy:\", accuracy)\n",
        "#print(\"CM:\", cm)\n"
      ],
      "metadata": {
        "id": "j0a8qNuwRLuv",
        "colab": {
          "base_uri": "https://localhost:8080/"
        },
        "outputId": "bf86fc2e-86e3-4282-ee08-2df283267059"
      },
      "execution_count": 22,
      "outputs": [
        {
          "output_type": "stream",
          "name": "stdout",
          "text": [
            "Fitting 3 folds for each of 1 candidates, totalling 3 fits\n",
            "Best parameters:  {'learning_rate': 0.1, 'max_depth': 10, 'max_features': 'log2', 'min_samples_split': 8, 'n_estimators': 50, 'subsample': 1.0}\n",
            "Best score:  0.8473358582556809\n",
            "Auc: 0.8561407269733561\n"
          ]
        }
      ]
    },
    {
      "cell_type": "code",
      "source": [
        "import matplotlib.pyplot as plt\n",
        "import numpy as np\n",
        "y_pred = gbc.predict(x_test)\n",
        "import seaborn as sns\n",
        "\n",
        "#auc = roc_auc_score(y_test, y_pred, multi_class= 'ovr')\n",
        "#accuracy = accuracy_score(y_test, y_pred)\n",
        "cm = confusion_matrix(y_test, y_pred)\n",
        "#print(\"Auc:\", auc)\n",
        "# #print(\"Accuracy:\", accuracy)\n",
        "# print(\"CM:\", cm)\n",
        "\n",
        "# plt.figure(figsize=(8, 8))\n",
        "# plt.imshow(cm, interpolation='nearest', cmap=plt.cm.Blues)\n",
        "# plt.title('Confusion matrix')\n",
        "# plt.colorbar()\n",
        "# tick_marks = np.arange(len(np.unique(y_test)))\n",
        "# plt.xticks(tick_marks, np.unique(y_test), rotation=45)\n",
        "# plt.yticks(tick_marks, np.unique(y_test))\n",
        "# plt.tight_layout()\n",
        "# plt.xlabel('Predicted label')\n",
        "# plt.ylabel('True label')\n",
        "# plt.show()\n",
        "\n",
        "sns.heatmap(cm, annot=True, cmap='Blues', fmt='g')\n",
        "\n",
        "# set axis labels and title\n",
        "plt.xlabel('Predicted label')\n",
        "plt.ylabel('True label')\n",
        "plt.title('Confusion Matrix')\n",
        "\n",
        "# show the plot\n",
        "plt.show()\n",
        "\n",
        "\n",
        "# from sklearn.metrics import classification_report\n",
        "# # Make predictions on the test data using the best model\n",
        "\n",
        "# # Print the classification report\n",
        "# print(classification_report(y_test, y_pred))\n",
        "\n",
        "# # extract feature importances\n",
        "# importance_df = pd.DataFrame({'feature': x_train.columns, 'importance': cb_model.best_estimator_.feature_importances_})\n",
        "# # plot feature importances\n",
        "# plot_feature_importances(importance_df)"
      ],
      "metadata": {
        "colab": {
          "base_uri": "https://localhost:8080/",
          "height": 472
        },
        "id": "rxpJTvkQVpSP",
        "outputId": "b5e852f8-c1a4-43ee-eea6-a8ab0a715029"
      },
      "execution_count": 23,
      "outputs": [
        {
          "output_type": "display_data",
          "data": {
            "text/plain": [
              "<Figure size 640x480 with 2 Axes>"
            ],
            "image/png": "[encoded data removed]"
          },
          "metadata": {}
        }
      ]
    },
    {
      "cell_type": "code",
      "source": [
        "#LightGBM\n",
        "import lightgbm as lgb\n",
        "from sklearn.metrics import roc_auc_score\n",
        "from sklearn.model_selection import RandomizedSearchCV\n",
        "\n",
        "# defining the xgboost regressor\n",
        "lgb_model = lgb.LGBMClassifier(random_state=42)\n",
        "\n",
        "# defining the parameter grid to search over\n",
        "\n",
        "# Define the hyperparameter grid to search over\n",
        "param_grid = {'num_leaves': [10, 20],\n",
        "              'max_depth': [5,15],\n",
        "              'learning_rate': [0.01, 0.1, 1],\n",
        "              'n_estimators': [40, 50, 60],\n",
        "              'min_child_samples': [1, 5, 10],\n",
        "              'subsample': [0.5, 0.8, 1.0],\n",
        "              'colsample_bytree': [0.5, 0.8, 1.0]}\n",
        "\n",
        "# use RandomizedSearchCV to search for best hyperparameters\n",
        "lgb_model = RandomizedSearchCV(estimator = lgb_model, param_distributions = param_grid, n_iter = 10, cv = 3, verbose=2, random_state=42, n_jobs = -1, scoring = 'roc_auc_ovr')\n",
        "\n",
        "lgb_model.fit(x_train, y_train.values.ravel())\n",
        "\n",
        "# printing best parameters and best score\n",
        "print(\"Best parameters: \", lgb_model.best_params_)\n",
        "print(\"Best score: \", lgb_model.best_score_)\n",
        "\n",
        "# Make predictions on the test data using the best model\n",
        "y_pred = lgb_model.predict_proba(x_test)\n",
        "\n",
        "# printing the accuracy\n",
        "accuracy = roc_auc_score(y_test, y_pred, multi_class = 'ovr')\n",
        "print(\"Accuracy score:\", accuracy)"
      ],
      "metadata": {
        "id": "4r-jh4gdRPRt",
        "colab": {
          "base_uri": "https://localhost:8080/",
          "height": 415
        },
        "outputId": "b740f711-4eda-4548-f30b-ffe64b9a1616"
      },
      "execution_count": 31,
      "outputs": [
        {
          "output_type": "stream",
          "name": "stdout",
          "text": [
            "Fitting 3 folds for each of 10 candidates, totalling 30 fits\n"
          ]
        },
        {
          "output_type": "error",
          "ename": "KeyboardInterrupt",
          "evalue": "ignored",
          "traceback": [
            "\u001b[0;31m---------------------------------------------------------------------------\u001b[0m",
            "\u001b[0;31mKeyboardInterrupt\u001b[0m                         Traceback (most recent call last)",
            "\u001b[0;32m<ipython-input-31-7665f9555d99>\u001b[0m in \u001b[0;36m<cell line: 23>\u001b[0;34m()\u001b[0m\n\u001b[1;32m     21\u001b[0m \u001b[0mlgb_model\u001b[0m \u001b[0;34m=\u001b[0m \u001b[0mRandomizedSearchCV\u001b[0m\u001b[0;34m(\u001b[0m\u001b[0mestimator\u001b[0m \u001b[0;34m=\u001b[0m \u001b[0mlgb_model\u001b[0m\u001b[0;34m,\u001b[0m \u001b[0mparam_distributions\u001b[0m \u001b[0;34m=\u001b[0m \u001b[0mparam_grid\u001b[0m\u001b[0;34m,\u001b[0m \u001b[0mn_iter\u001b[0m \u001b[0;34m=\u001b[0m \u001b[0;36m10\u001b[0m\u001b[0;34m,\u001b[0m \u001b[0mcv\u001b[0m \u001b[0;34m=\u001b[0m \u001b[0;36m3\u001b[0m\u001b[0;34m,\u001b[0m \u001b[0mverbose\u001b[0m\u001b[0;34m=\u001b[0m\u001b[0;36m2\u001b[0m\u001b[0;34m,\u001b[0m \u001b[0mrandom_state\u001b[0m\u001b[0;34m=\u001b[0m\u001b[0;36m42\u001b[0m\u001b[0;34m,\u001b[0m \u001b[0mn_jobs\u001b[0m \u001b[0;34m=\u001b[0m \u001b[0;34m-\u001b[0m\u001b[0;36m1\u001b[0m\u001b[0;34m,\u001b[0m \u001b[0mscoring\u001b[0m \u001b[0;34m=\u001b[0m \u001b[0;34m'roc_auc_ovr'\u001b[0m\u001b[0;34m)\u001b[0m\u001b[0;34m\u001b[0m\u001b[0;34m\u001b[0m\u001b[0m\n\u001b[1;32m     22\u001b[0m \u001b[0;34m\u001b[0m\u001b[0m\n\u001b[0;32m---> 23\u001b[0;31m \u001b[0mlgb_model\u001b[0m\u001b[0;34m.\u001b[0m\u001b[0mfit\u001b[0m\u001b[0;34m(\u001b[0m\u001b[0mx_train\u001b[0m\u001b[0;34m,\u001b[0m \u001b[0my_train\u001b[0m\u001b[0;34m.\u001b[0m\u001b[0mvalues\u001b[0m\u001b[0;34m.\u001b[0m\u001b[0mravel\u001b[0m\u001b[0;34m(\u001b[0m\u001b[0;34m)\u001b[0m\u001b[0;34m)\u001b[0m\u001b[0;34m\u001b[0m\u001b[0;34m\u001b[0m\u001b[0m\n\u001b[0m\u001b[1;32m     24\u001b[0m \u001b[0;34m\u001b[0m\u001b[0m\n\u001b[1;32m     25\u001b[0m \u001b[0;31m# printing best parameters and best score\u001b[0m\u001b[0;34m\u001b[0m\u001b[0;34m\u001b[0m\u001b[0m\n",
            "\u001b[0;32m/usr/local/lib/python3.9/dist-packages/sklearn/model_selection/_search.py\u001b[0m in \u001b[0;36mfit\u001b[0;34m(self, X, y, groups, **fit_params)\u001b[0m\n\u001b[1;32m    872\u001b[0m                 \u001b[0;32mreturn\u001b[0m \u001b[0mresults\u001b[0m\u001b[0;34m\u001b[0m\u001b[0;34m\u001b[0m\u001b[0m\n\u001b[1;32m    873\u001b[0m \u001b[0;34m\u001b[0m\u001b[0m\n\u001b[0;32m--> 874\u001b[0;31m             \u001b[0mself\u001b[0m\u001b[0;34m.\u001b[0m\u001b[0m_run_search\u001b[0m\u001b[0;34m(\u001b[0m\u001b[0mevaluate_candidates\u001b[0m\u001b[0;34m)\u001b[0m\u001b[0;34m\u001b[0m\u001b[0;34m\u001b[0m\u001b[0m\n\u001b[0m\u001b[1;32m    875\u001b[0m \u001b[0;34m\u001b[0m\u001b[0m\n\u001b[1;32m    876\u001b[0m             \u001b[0;31m# multimetric is determined here because in the case of a callable\u001b[0m\u001b[0;34m\u001b[0m\u001b[0;34m\u001b[0m\u001b[0m\n",
            "\u001b[0;32m/usr/local/lib/python3.9/dist-packages/sklearn/model_selection/_search.py\u001b[0m in \u001b[0;36m_run_search\u001b[0;34m(self, evaluate_candidates)\u001b[0m\n\u001b[1;32m   1766\u001b[0m     \u001b[0;32mdef\u001b[0m \u001b[0m_run_search\u001b[0m\u001b[0;34m(\u001b[0m\u001b[0mself\u001b[0m\u001b[0;34m,\u001b[0m \u001b[0mevaluate_candidates\u001b[0m\u001b[0;34m)\u001b[0m\u001b[0;34m:\u001b[0m\u001b[0;34m\u001b[0m\u001b[0;34m\u001b[0m\u001b[0m\n\u001b[1;32m   1767\u001b[0m         \u001b[0;34m\"\"\"Search n_iter candidates from param_distributions\"\"\"\u001b[0m\u001b[0;34m\u001b[0m\u001b[0;34m\u001b[0m\u001b[0m\n\u001b[0;32m-> 1768\u001b[0;31m         evaluate_candidates(\n\u001b[0m\u001b[1;32m   1769\u001b[0m             ParameterSampler(\n\u001b[1;32m   1770\u001b[0m                 \u001b[0mself\u001b[0m\u001b[0;34m.\u001b[0m\u001b[0mparam_distributions\u001b[0m\u001b[0;34m,\u001b[0m \u001b[0mself\u001b[0m\u001b[0;34m.\u001b[0m\u001b[0mn_iter\u001b[0m\u001b[0;34m,\u001b[0m \u001b[0mrandom_state\u001b[0m\u001b[0;34m=\u001b[0m\u001b[0mself\u001b[0m\u001b[0;34m.\u001b[0m\u001b[0mrandom_state\u001b[0m\u001b[0;34m\u001b[0m\u001b[0;34m\u001b[0m\u001b[0m\n",
            "\u001b[0;32m/usr/local/lib/python3.9/dist-packages/sklearn/model_selection/_search.py\u001b[0m in \u001b[0;36mevaluate_candidates\u001b[0;34m(candidate_params, cv, more_results)\u001b[0m\n\u001b[1;32m    819\u001b[0m                     )\n\u001b[1;32m    820\u001b[0m \u001b[0;34m\u001b[0m\u001b[0m\n\u001b[0;32m--> 821\u001b[0;31m                 out = parallel(\n\u001b[0m\u001b[1;32m    822\u001b[0m                     delayed(_fit_and_score)(\n\u001b[1;32m    823\u001b[0m                         \u001b[0mclone\u001b[0m\u001b[0;34m(\u001b[0m\u001b[0mbase_estimator\u001b[0m\u001b[0;34m)\u001b[0m\u001b[0;34m,\u001b[0m\u001b[0;34m\u001b[0m\u001b[0;34m\u001b[0m\u001b[0m\n",
            "\u001b[0;32m/usr/local/lib/python3.9/dist-packages/sklearn/utils/parallel.py\u001b[0m in \u001b[0;36m__call__\u001b[0;34m(self, iterable)\u001b[0m\n\u001b[1;32m     61\u001b[0m             \u001b[0;32mfor\u001b[0m \u001b[0mdelayed_func\u001b[0m\u001b[0;34m,\u001b[0m \u001b[0margs\u001b[0m\u001b[0;34m,\u001b[0m \u001b[0mkwargs\u001b[0m \u001b[0;32min\u001b[0m \u001b[0miterable\u001b[0m\u001b[0;34m\u001b[0m\u001b[0;34m\u001b[0m\u001b[0m\n\u001b[1;32m     62\u001b[0m         )\n\u001b[0;32m---> 63\u001b[0;31m         \u001b[0;32mreturn\u001b[0m \u001b[0msuper\u001b[0m\u001b[0;34m(\u001b[0m\u001b[0;34m)\u001b[0m\u001b[0;34m.\u001b[0m\u001b[0m__call__\u001b[0m\u001b[0;34m(\u001b[0m\u001b[0miterable_with_config\u001b[0m\u001b[0;34m)\u001b[0m\u001b[0;34m\u001b[0m\u001b[0;34m\u001b[0m\u001b[0m\n\u001b[0m\u001b[1;32m     64\u001b[0m \u001b[0;34m\u001b[0m\u001b[0m\n\u001b[1;32m     65\u001b[0m \u001b[0;34m\u001b[0m\u001b[0m\n",
            "\u001b[0;32m/usr/local/lib/python3.9/dist-packages/joblib/parallel.py\u001b[0m in \u001b[0;36m__call__\u001b[0;34m(self, iterable)\u001b[0m\n\u001b[1;32m   1096\u001b[0m \u001b[0;34m\u001b[0m\u001b[0m\n\u001b[1;32m   1097\u001b[0m             \u001b[0;32mwith\u001b[0m \u001b[0mself\u001b[0m\u001b[0;34m.\u001b[0m\u001b[0m_backend\u001b[0m\u001b[0;34m.\u001b[0m\u001b[0mretrieval_context\u001b[0m\u001b[0;34m(\u001b[0m\u001b[0;34m)\u001b[0m\u001b[0;34m:\u001b[0m\u001b[0;34m\u001b[0m\u001b[0;34m\u001b[0m\u001b[0m\n\u001b[0;32m-> 1098\u001b[0;31m                 \u001b[0mself\u001b[0m\u001b[0;34m.\u001b[0m\u001b[0mretrieve\u001b[0m\u001b[0;34m(\u001b[0m\u001b[0;34m)\u001b[0m\u001b[0;34m\u001b[0m\u001b[0;34m\u001b[0m\u001b[0m\n\u001b[0m\u001b[1;32m   1099\u001b[0m             \u001b[0;31m# Make sure that we get a last message telling us we are done\u001b[0m\u001b[0;34m\u001b[0m\u001b[0;34m\u001b[0m\u001b[0m\n\u001b[1;32m   1100\u001b[0m             \u001b[0melapsed_time\u001b[0m \u001b[0;34m=\u001b[0m \u001b[0mtime\u001b[0m\u001b[0;34m.\u001b[0m\u001b[0mtime\u001b[0m\u001b[0;34m(\u001b[0m\u001b[0;34m)\u001b[0m \u001b[0;34m-\u001b[0m \u001b[0mself\u001b[0m\u001b[0;34m.\u001b[0m\u001b[0m_start_time\u001b[0m\u001b[0;34m\u001b[0m\u001b[0;34m\u001b[0m\u001b[0m\n",
            "\u001b[0;32m/usr/local/lib/python3.9/dist-packages/joblib/parallel.py\u001b[0m in \u001b[0;36mretrieve\u001b[0;34m(self)\u001b[0m\n\u001b[1;32m    973\u001b[0m             \u001b[0;32mtry\u001b[0m\u001b[0;34m:\u001b[0m\u001b[0;34m\u001b[0m\u001b[0;34m\u001b[0m\u001b[0m\n\u001b[1;32m    974\u001b[0m                 \u001b[0;32mif\u001b[0m \u001b[0mgetattr\u001b[0m\u001b[0;34m(\u001b[0m\u001b[0mself\u001b[0m\u001b[0;34m.\u001b[0m\u001b[0m_backend\u001b[0m\u001b[0;34m,\u001b[0m \u001b[0;34m'supports_timeout'\u001b[0m\u001b[0;34m,\u001b[0m \u001b[0;32mFalse\u001b[0m\u001b[0;34m)\u001b[0m\u001b[0;34m:\u001b[0m\u001b[0;34m\u001b[0m\u001b[0;34m\u001b[0m\u001b[0m\n\u001b[0;32m--> 975\u001b[0;31m                     \u001b[0mself\u001b[0m\u001b[0;34m.\u001b[0m\u001b[0m_output\u001b[0m\u001b[0;34m.\u001b[0m\u001b[0mextend\u001b[0m\u001b[0;34m(\u001b[0m\u001b[0mjob\u001b[0m\u001b[0;34m.\u001b[0m\u001b[0mget\u001b[0m\u001b[0;34m(\u001b[0m\u001b[0mtimeout\u001b[0m\u001b[0;34m=\u001b[0m\u001b[0mself\u001b[0m\u001b[0;34m.\u001b[0m\u001b[0mtimeout\u001b[0m\u001b[0;34m)\u001b[0m\u001b[0;34m)\u001b[0m\u001b[0;34m\u001b[0m\u001b[0;34m\u001b[0m\u001b[0m\n\u001b[0m\u001b[1;32m    976\u001b[0m                 \u001b[0;32melse\u001b[0m\u001b[0;34m:\u001b[0m\u001b[0;34m\u001b[0m\u001b[0;34m\u001b[0m\u001b[0m\n\u001b[1;32m    977\u001b[0m                     \u001b[0mself\u001b[0m\u001b[0;34m.\u001b[0m\u001b[0m_output\u001b[0m\u001b[0;34m.\u001b[0m\u001b[0mextend\u001b[0m\u001b[0;34m(\u001b[0m\u001b[0mjob\u001b[0m\u001b[0;34m.\u001b[0m\u001b[0mget\u001b[0m\u001b[0;34m(\u001b[0m\u001b[0;34m)\u001b[0m\u001b[0;34m)\u001b[0m\u001b[0;34m\u001b[0m\u001b[0;34m\u001b[0m\u001b[0m\n",
            "\u001b[0;32m/usr/local/lib/python3.9/dist-packages/joblib/_parallel_backends.py\u001b[0m in \u001b[0;36mwrap_future_result\u001b[0;34m(future, timeout)\u001b[0m\n\u001b[1;32m    565\u001b[0m         AsyncResults.get from multiprocessing.\"\"\"\n\u001b[1;32m    566\u001b[0m         \u001b[0;32mtry\u001b[0m\u001b[0;34m:\u001b[0m\u001b[0;34m\u001b[0m\u001b[0;34m\u001b[0m\u001b[0m\n\u001b[0;32m--> 567\u001b[0;31m             \u001b[0;32mreturn\u001b[0m \u001b[0mfuture\u001b[0m\u001b[0;34m.\u001b[0m\u001b[0mresult\u001b[0m\u001b[0;34m(\u001b[0m\u001b[0mtimeout\u001b[0m\u001b[0;34m=\u001b[0m\u001b[0mtimeout\u001b[0m\u001b[0;34m)\u001b[0m\u001b[0;34m\u001b[0m\u001b[0;34m\u001b[0m\u001b[0m\n\u001b[0m\u001b[1;32m    568\u001b[0m         \u001b[0;32mexcept\u001b[0m \u001b[0mCfTimeoutError\u001b[0m \u001b[0;32mas\u001b[0m \u001b[0me\u001b[0m\u001b[0;34m:\u001b[0m\u001b[0;34m\u001b[0m\u001b[0;34m\u001b[0m\u001b[0m\n\u001b[1;32m    569\u001b[0m             \u001b[0;32mraise\u001b[0m \u001b[0mTimeoutError\u001b[0m \u001b[0;32mfrom\u001b[0m \u001b[0me\u001b[0m\u001b[0;34m\u001b[0m\u001b[0;34m\u001b[0m\u001b[0m\n",
            "\u001b[0;32m/usr/lib/python3.9/concurrent/futures/_base.py\u001b[0m in \u001b[0;36mresult\u001b[0;34m(self, timeout)\u001b[0m\n\u001b[1;32m    439\u001b[0m                     \u001b[0;32mreturn\u001b[0m \u001b[0mself\u001b[0m\u001b[0;34m.\u001b[0m\u001b[0m__get_result\u001b[0m\u001b[0;34m(\u001b[0m\u001b[0;34m)\u001b[0m\u001b[0;34m\u001b[0m\u001b[0;34m\u001b[0m\u001b[0m\n\u001b[1;32m    440\u001b[0m \u001b[0;34m\u001b[0m\u001b[0m\n\u001b[0;32m--> 441\u001b[0;31m                 \u001b[0mself\u001b[0m\u001b[0;34m.\u001b[0m\u001b[0m_condition\u001b[0m\u001b[0;34m.\u001b[0m\u001b[0mwait\u001b[0m\u001b[0;34m(\u001b[0m\u001b[0mtimeout\u001b[0m\u001b[0;34m)\u001b[0m\u001b[0;34m\u001b[0m\u001b[0;34m\u001b[0m\u001b[0m\n\u001b[0m\u001b[1;32m    442\u001b[0m \u001b[0;34m\u001b[0m\u001b[0m\n\u001b[1;32m    443\u001b[0m                 \u001b[0;32mif\u001b[0m \u001b[0mself\u001b[0m\u001b[0;34m.\u001b[0m\u001b[0m_state\u001b[0m \u001b[0;32min\u001b[0m \u001b[0;34m[\u001b[0m\u001b[0mCANCELLED\u001b[0m\u001b[0;34m,\u001b[0m \u001b[0mCANCELLED_AND_NOTIFIED\u001b[0m\u001b[0;34m]\u001b[0m\u001b[0;34m:\u001b[0m\u001b[0;34m\u001b[0m\u001b[0;34m\u001b[0m\u001b[0m\n",
            "\u001b[0;32m/usr/lib/python3.9/threading.py\u001b[0m in \u001b[0;36mwait\u001b[0;34m(self, timeout)\u001b[0m\n\u001b[1;32m    310\u001b[0m         \u001b[0;32mtry\u001b[0m\u001b[0;34m:\u001b[0m    \u001b[0;31m# restore state no matter what (e.g., KeyboardInterrupt)\u001b[0m\u001b[0;34m\u001b[0m\u001b[0;34m\u001b[0m\u001b[0m\n\u001b[1;32m    311\u001b[0m             \u001b[0;32mif\u001b[0m \u001b[0mtimeout\u001b[0m \u001b[0;32mis\u001b[0m \u001b[0;32mNone\u001b[0m\u001b[0;34m:\u001b[0m\u001b[0;34m\u001b[0m\u001b[0;34m\u001b[0m\u001b[0m\n\u001b[0;32m--> 312\u001b[0;31m                 \u001b[0mwaiter\u001b[0m\u001b[0;34m.\u001b[0m\u001b[0macquire\u001b[0m\u001b[0;34m(\u001b[0m\u001b[0;34m)\u001b[0m\u001b[0;34m\u001b[0m\u001b[0;34m\u001b[0m\u001b[0m\n\u001b[0m\u001b[1;32m    313\u001b[0m                 \u001b[0mgotit\u001b[0m \u001b[0;34m=\u001b[0m \u001b[0;32mTrue\u001b[0m\u001b[0;34m\u001b[0m\u001b[0;34m\u001b[0m\u001b[0m\n\u001b[1;32m    314\u001b[0m             \u001b[0;32melse\u001b[0m\u001b[0;34m:\u001b[0m\u001b[0;34m\u001b[0m\u001b[0;34m\u001b[0m\u001b[0m\n",
            "\u001b[0;31mKeyboardInterrupt\u001b[0m: "
          ]
        }
      ]
    },
    {
      "cell_type": "code",
      "source": [
        "import matplotlib.pyplot as plt\n",
        "def plot_feature_importances(df, threshold = 0.9):\n",
        "    \"\"\"\n",
        "    Plots 15 most important features and the cumulative importance of features.\n",
        "    Prints the number of features needed to reach threshold cumulative importance.\n",
        "    \n",
        "    Parameters\n",
        "    --------\n",
        "    df : dataframe\n",
        "        Dataframe of feature importances. Columns must be feature and importance\n",
        "    threshold : float, default = 0.9\n",
        "        Threshold for prining information about cumulative importances\n",
        "        \n",
        "    Return\n",
        "    --------\n",
        "    df : dataframe\n",
        "        Dataframe ordered by feature importances with a normalized column (sums to 1)\n",
        "        and a cumulative importance column\n",
        "    \n",
        "    \"\"\"\n",
        "    \n",
        "    plt.rcParams['font.size'] = 18\n",
        "    \n",
        "    # Sort features according to importance\n",
        "    df = df.sort_values('importance', ascending = False).reset_index()\n",
        "    \n",
        "    # Normalize the feature importances to add up to one\n",
        "    df['importance_normalized'] = df['importance'] / df['importance'].sum()\n",
        "    df['cumulative_importance'] = np.cumsum(df['importance_normalized'])\n",
        "\n",
        "    # Make a horizontal bar chart of feature importances\n",
        "    plt.figure(figsize = (10, 6))\n",
        "    ax = plt.subplot()\n",
        "    \n",
        "    # Need to reverse the index to plot most important on top\n",
        "    ax.barh(list(reversed(list(df.index[:15]))), \n",
        "            df['importance_normalized'].head(15), \n",
        "            align = 'center', edgecolor = 'k')\n",
        "    \n",
        "    # Set the yticks and labels\n",
        "    ax.set_yticks(list(reversed(list(df.index[:15]))))\n",
        "    ax.set_yticklabels(df['feature'].head(15))\n",
        "    \n",
        "    # Plot labeling\n",
        "    plt.xlabel('Normalized Importance'); plt.title('Feature Importances')\n",
        "    plt.show()\n",
        "    \n",
        "    # Cumulative importance plot\n",
        "    plt.figure(figsize = (8, 6))\n",
        "    plt.plot(list(range(len(df))), df['cumulative_importance'], 'r-')\n",
        "    plt.xlabel('Number of Features'); plt.ylabel('Cumulative Importance'); \n",
        "    plt.title('Cumulative Feature Importance');\n",
        "    plt.show();\n",
        "    \n",
        "    importance_index = np.min(np.where(df['cumulative_importance'] > threshold))\n",
        "    print('%d features required for %0.2f of cumulative importance' % (importance_index + 1, threshold))\n",
        "    \n",
        "    return df"
      ],
      "metadata": {
        "id": "j8Y8DXm4UbyI"
      },
      "execution_count": null,
      "outputs": []
    },
    {
      "cell_type": "code",
      "source": [
        "#CatBoost\n",
        "import catboost as cb\n",
        "from sklearn.model_selection import RandomizedSearchCV\n",
        "from sklearn.metrics import roc_auc_score\n",
        "import numpy as np\n",
        "\n",
        "# define the class weights\n",
        "class_weights = [1, 1, 2,2,3,3, 4]\n",
        "\n",
        "# define the CatBoost classifier\n",
        "cb_model = cb.CatBoostClassifier(loss_function='MultiClass', eval_metric='MultiClass', class_weights=class_weights)\n",
        "\n",
        "# defining the parameter grid to search over\n",
        "param_grid = {\n",
        "    'max_depth': np.arange(5,15,5),\n",
        "    'learning_rate': np.arange(0.01,0.2,0.1),\n",
        "    'n_estimators': range(70,200,20),\n",
        "    'colsample_bylevel': np.arange(0.5,1,0.1),\n",
        "    'reg_lambda': np.arange(0,1,0.2),\n",
        "    'min_child_samples': np.arange(1, 50, 5)\n",
        "}\n",
        "\n",
        "# use RandomizedSearchCV to search for best hyperparameters\n",
        "cb_model = RandomizedSearchCV(estimator = cb_model, param_distributions = param_grid, n_iter = 300, cv = 3, verbose=2, random_state=42, n_jobs = -1, scoring = 'roc_auc_ovr')\n",
        "\n",
        "cb_model.fit(x_train, y_train)\n",
        "\n",
        "# printing best parameters and best score\n",
        "print(\"Best parameters: \", cb_model.best_params_)\n",
        "print(\"Best score: \", cb_model.best_score_)\n",
        "\n",
        "# Make predictions on the test data using the best model\n",
        "y_pred = cb_model.predict_proba(x_test)\n",
        "\n",
        "# printing the accuracy\n",
        "accuracy = roc_auc_score(y_test, y_pred, multi_class='ovr')\n",
        "print(\"Accuracy score:\", accuracy)\n",
        "\n",
        "y_pred = cb_model.predict(x_test)\n",
        "# Create confusion matrix\n",
        "cm = confusion_matrix(y_test, y_pred)\n",
        "print(cm)\n",
        "# Plot confusion matrix\n",
        "plt.figure(figsize=(8, 8))\n",
        "plt.imshow(cm, interpolation='nearest', cmap=plt.cm.Blues)\n",
        "plt.title('Confusion matrix')\n",
        "plt.colorbar()\n",
        "tick_marks = np.arange(len(np.unique(y_test)))\n",
        "plt.xticks(tick_marks, np.unique(y_test), rotation=45)\n",
        "plt.yticks(tick_marks, np.unique(y_test))\n",
        "plt.tight_layout()\n",
        "plt.xlabel('Predicted label')\n",
        "plt.ylabel('True label')\n",
        "plt.show()\n",
        "\n",
        "from sklearn.metrics import classification_report\n",
        "# Make predictions on the test data using the best model\n",
        "y_pred = cb_model.predict(x_test)\n",
        "\n",
        "# Print the classification report\n",
        "print(classification_report(y_test, y_pred))\n",
        "\n",
        "# extract feature importances\n",
        "importance_df = pd.DataFrame({'feature': x_train.columns, 'importance': cb_model.best_estimator_.feature_importances_})\n",
        "# plot feature importances\n",
        "plot_feature_importances(importance_df)"
      ],
      "metadata": {
        "id": "cndwgBNaRS1T",
        "colab": {
          "base_uri": "https://localhost:8080/",
          "height": 1000
        },
        "outputId": "a8d1dad0-6ee0-4ab4-958b-0c61847e8c50"
      },
      "execution_count": 25,
      "outputs": [
        {
          "output_type": "stream",
          "name": "stdout",
          "text": [
            "Looking in indexes: https://pypi.org/simple, https://us-python.pkg.dev/colab-wheels/public/simple/\n",
            "Collecting catboost\n",
            "  Downloading catboost-1.1.1-cp39-none-manylinux1_x86_64.whl (76.6 MB)\n",
            "\u001b[2K     \u001b[90m━━━━━━━━━━━━━━━━━━━━━━━━━━━━━━━━━━━━━━━━\u001b[0m \u001b[32m76.6/76.6 MB\u001b[0m \u001b[31m12.3 MB/s\u001b[0m eta \u001b[36m0:00:00\u001b[0m\n",
            "\u001b[?25hRequirement already satisfied: scipy in /usr/local/lib/python3.9/dist-packages (from catboost) (1.10.1)\n",
            "Requirement already satisfied: six in /usr/local/lib/python3.9/dist-packages (from catboost) (1.16.0)\n",
            "Requirement already satisfied: matplotlib in /usr/local/lib/python3.9/dist-packages (from catboost) (3.7.1)\n",
            "Requirement already satisfied: graphviz in /usr/local/lib/python3.9/dist-packages (from catboost) (0.20.1)\n",
            "Requirement already satisfied: numpy>=1.16.0 in /usr/local/lib/python3.9/dist-packages (from catboost) (1.22.4)\n",
            "Requirement already satisfied: plotly in /usr/local/lib/python3.9/dist-packages (from catboost) (5.13.1)\n",
            "Requirement already satisfied: pandas>=0.24.0 in /usr/local/lib/python3.9/dist-packages (from catboost) (1.5.3)\n",
            "Requirement already satisfied: python-dateutil>=2.8.1 in /usr/local/lib/python3.9/dist-packages (from pandas>=0.24.0->catboost) (2.8.2)\n",
            "Requirement already satisfied: pytz>=2020.1 in /usr/local/lib/python3.9/dist-packages (from pandas>=0.24.0->catboost) (2022.7.1)\n",
            "Requirement already satisfied: kiwisolver>=1.0.1 in /usr/local/lib/python3.9/dist-packages (from matplotlib->catboost) (1.4.4)\n",
            "Requirement already satisfied: pillow>=6.2.0 in /usr/local/lib/python3.9/dist-packages (from matplotlib->catboost) (8.4.0)\n",
            "Requirement already satisfied: pyparsing>=2.3.1 in /usr/local/lib/python3.9/dist-packages (from matplotlib->catboost) (3.0.9)\n",
            "Requirement already satisfied: contourpy>=1.0.1 in /usr/local/lib/python3.9/dist-packages (from matplotlib->catboost) (1.0.7)\n",
            "Requirement already satisfied: cycler>=0.10 in /usr/local/lib/python3.9/dist-packages (from matplotlib->catboost) (0.11.0)\n",
            "Requirement already satisfied: importlib-resources>=3.2.0 in /usr/local/lib/python3.9/dist-packages (from matplotlib->catboost) (5.12.0)\n",
            "Requirement already satisfied: packaging>=20.0 in /usr/local/lib/python3.9/dist-packages (from matplotlib->catboost) (23.1)\n",
            "Requirement already satisfied: fonttools>=4.22.0 in /usr/local/lib/python3.9/dist-packages (from matplotlib->catboost) (4.39.3)\n",
            "Requirement already satisfied: tenacity>=6.2.0 in /usr/local/lib/python3.9/dist-packages (from plotly->catboost) (8.2.2)\n",
            "Requirement already satisfied: zipp>=3.1.0 in /usr/local/lib/python3.9/dist-packages (from importlib-resources>=3.2.0->matplotlib->catboost) (3.15.0)\n",
            "Installing collected packages: catboost\n",
            "Successfully installed catboost-1.1.1\n",
            "Fitting 3 folds for each of 300 candidates, totalling 900 fits\n"
          ]
        },
        {
          "output_type": "error",
          "ename": "ValueError",
          "evalue": "ignored",
          "traceback": [
            "\u001b[0;31m---------------------------------------------------------------------------\u001b[0m",
            "\u001b[0;31mValueError\u001b[0m                                Traceback (most recent call last)",
            "\u001b[0;32m<ipython-input-25-a4062a3299dd>\u001b[0m in \u001b[0;36m<cell line: 27>\u001b[0;34m()\u001b[0m\n\u001b[1;32m     25\u001b[0m \u001b[0mcb_model\u001b[0m \u001b[0;34m=\u001b[0m \u001b[0mRandomizedSearchCV\u001b[0m\u001b[0;34m(\u001b[0m\u001b[0mestimator\u001b[0m \u001b[0;34m=\u001b[0m \u001b[0mcb_model\u001b[0m\u001b[0;34m,\u001b[0m \u001b[0mparam_distributions\u001b[0m \u001b[0;34m=\u001b[0m \u001b[0mparam_grid\u001b[0m\u001b[0;34m,\u001b[0m \u001b[0mn_iter\u001b[0m \u001b[0;34m=\u001b[0m \u001b[0;36m300\u001b[0m\u001b[0;34m,\u001b[0m \u001b[0mcv\u001b[0m \u001b[0;34m=\u001b[0m \u001b[0;36m3\u001b[0m\u001b[0;34m,\u001b[0m \u001b[0mverbose\u001b[0m\u001b[0;34m=\u001b[0m\u001b[0;36m2\u001b[0m\u001b[0;34m,\u001b[0m \u001b[0mrandom_state\u001b[0m\u001b[0;34m=\u001b[0m\u001b[0;36m42\u001b[0m\u001b[0;34m,\u001b[0m \u001b[0mn_jobs\u001b[0m \u001b[0;34m=\u001b[0m \u001b[0;34m-\u001b[0m\u001b[0;36m1\u001b[0m\u001b[0;34m,\u001b[0m \u001b[0mscoring\u001b[0m \u001b[0;34m=\u001b[0m \u001b[0;34m'roc_auc_ovr'\u001b[0m\u001b[0;34m)\u001b[0m\u001b[0;34m\u001b[0m\u001b[0;34m\u001b[0m\u001b[0m\n\u001b[1;32m     26\u001b[0m \u001b[0;34m\u001b[0m\u001b[0m\n\u001b[0;32m---> 27\u001b[0;31m \u001b[0mcb_model\u001b[0m\u001b[0;34m.\u001b[0m\u001b[0mfit\u001b[0m\u001b[0;34m(\u001b[0m\u001b[0mx_train\u001b[0m\u001b[0;34m,\u001b[0m \u001b[0my_train\u001b[0m\u001b[0;34m)\u001b[0m\u001b[0;34m\u001b[0m\u001b[0;34m\u001b[0m\u001b[0m\n\u001b[0m\u001b[1;32m     28\u001b[0m \u001b[0;34m\u001b[0m\u001b[0m\n\u001b[1;32m     29\u001b[0m \u001b[0;31m# printing best parameters and best score\u001b[0m\u001b[0;34m\u001b[0m\u001b[0;34m\u001b[0m\u001b[0m\n",
            "\u001b[0;32m/usr/local/lib/python3.9/dist-packages/sklearn/model_selection/_search.py\u001b[0m in \u001b[0;36mfit\u001b[0;34m(self, X, y, groups, **fit_params)\u001b[0m\n\u001b[1;32m    872\u001b[0m                 \u001b[0;32mreturn\u001b[0m \u001b[0mresults\u001b[0m\u001b[0;34m\u001b[0m\u001b[0;34m\u001b[0m\u001b[0m\n\u001b[1;32m    873\u001b[0m \u001b[0;34m\u001b[0m\u001b[0m\n\u001b[0;32m--> 874\u001b[0;31m             \u001b[0mself\u001b[0m\u001b[0;34m.\u001b[0m\u001b[0m_run_search\u001b[0m\u001b[0;34m(\u001b[0m\u001b[0mevaluate_candidates\u001b[0m\u001b[0;34m)\u001b[0m\u001b[0;34m\u001b[0m\u001b[0;34m\u001b[0m\u001b[0m\n\u001b[0m\u001b[1;32m    875\u001b[0m \u001b[0;34m\u001b[0m\u001b[0m\n\u001b[1;32m    876\u001b[0m             \u001b[0;31m# multimetric is determined here because in the case of a callable\u001b[0m\u001b[0;34m\u001b[0m\u001b[0;34m\u001b[0m\u001b[0m\n",
            "\u001b[0;32m/usr/local/lib/python3.9/dist-packages/sklearn/model_selection/_search.py\u001b[0m in \u001b[0;36m_run_search\u001b[0;34m(self, evaluate_candidates)\u001b[0m\n\u001b[1;32m   1766\u001b[0m     \u001b[0;32mdef\u001b[0m \u001b[0m_run_search\u001b[0m\u001b[0;34m(\u001b[0m\u001b[0mself\u001b[0m\u001b[0;34m,\u001b[0m \u001b[0mevaluate_candidates\u001b[0m\u001b[0;34m)\u001b[0m\u001b[0;34m:\u001b[0m\u001b[0;34m\u001b[0m\u001b[0;34m\u001b[0m\u001b[0m\n\u001b[1;32m   1767\u001b[0m         \u001b[0;34m\"\"\"Search n_iter candidates from param_distributions\"\"\"\u001b[0m\u001b[0;34m\u001b[0m\u001b[0;34m\u001b[0m\u001b[0m\n\u001b[0;32m-> 1768\u001b[0;31m         evaluate_candidates(\n\u001b[0m\u001b[1;32m   1769\u001b[0m             ParameterSampler(\n\u001b[1;32m   1770\u001b[0m                 \u001b[0mself\u001b[0m\u001b[0;34m.\u001b[0m\u001b[0mparam_distributions\u001b[0m\u001b[0;34m,\u001b[0m \u001b[0mself\u001b[0m\u001b[0;34m.\u001b[0m\u001b[0mn_iter\u001b[0m\u001b[0;34m,\u001b[0m \u001b[0mrandom_state\u001b[0m\u001b[0;34m=\u001b[0m\u001b[0mself\u001b[0m\u001b[0;34m.\u001b[0m\u001b[0mrandom_state\u001b[0m\u001b[0;34m\u001b[0m\u001b[0;34m\u001b[0m\u001b[0m\n",
            "\u001b[0;32m/usr/local/lib/python3.9/dist-packages/sklearn/model_selection/_search.py\u001b[0m in \u001b[0;36mevaluate_candidates\u001b[0;34m(candidate_params, cv, more_results)\u001b[0m\n\u001b[1;32m    849\u001b[0m                     )\n\u001b[1;32m    850\u001b[0m \u001b[0;34m\u001b[0m\u001b[0m\n\u001b[0;32m--> 851\u001b[0;31m                 \u001b[0m_warn_or_raise_about_fit_failures\u001b[0m\u001b[0;34m(\u001b[0m\u001b[0mout\u001b[0m\u001b[0;34m,\u001b[0m \u001b[0mself\u001b[0m\u001b[0;34m.\u001b[0m\u001b[0merror_score\u001b[0m\u001b[0;34m)\u001b[0m\u001b[0;34m\u001b[0m\u001b[0;34m\u001b[0m\u001b[0m\n\u001b[0m\u001b[1;32m    852\u001b[0m \u001b[0;34m\u001b[0m\u001b[0m\n\u001b[1;32m    853\u001b[0m                 \u001b[0;31m# For callable self.scoring, the return type is only know after\u001b[0m\u001b[0;34m\u001b[0m\u001b[0;34m\u001b[0m\u001b[0m\n",
            "\u001b[0;32m/usr/local/lib/python3.9/dist-packages/sklearn/model_selection/_validation.py\u001b[0m in \u001b[0;36m_warn_or_raise_about_fit_failures\u001b[0;34m(results, error_score)\u001b[0m\n\u001b[1;32m    365\u001b[0m                 \u001b[0;34mf\"Below are more details about the failures:\\n{fit_errors_summary}\"\u001b[0m\u001b[0;34m\u001b[0m\u001b[0;34m\u001b[0m\u001b[0m\n\u001b[1;32m    366\u001b[0m             )\n\u001b[0;32m--> 367\u001b[0;31m             \u001b[0;32mraise\u001b[0m \u001b[0mValueError\u001b[0m\u001b[0;34m(\u001b[0m\u001b[0mall_fits_failed_message\u001b[0m\u001b[0;34m)\u001b[0m\u001b[0;34m\u001b[0m\u001b[0;34m\u001b[0m\u001b[0m\n\u001b[0m\u001b[1;32m    368\u001b[0m \u001b[0;34m\u001b[0m\u001b[0m\n\u001b[1;32m    369\u001b[0m         \u001b[0;32melse\u001b[0m\u001b[0;34m:\u001b[0m\u001b[0;34m\u001b[0m\u001b[0;34m\u001b[0m\u001b[0m\n",
            "\u001b[0;31mValueError\u001b[0m: \nAll the 900 fits failed.\nIt is very likely that your model is misconfigured.\nYou can try to debug the error by setting error_score='raise'.\n\nBelow are more details about the failures:\n--------------------------------------------------------------------------------\n894 fits failed with the following error:\nTraceback (most recent call last):\n  File \"/usr/local/lib/python3.9/dist-packages/sklearn/model_selection/_validation.py\", line 686, in _fit_and_score\n    estimator.fit(X_train, y_train, **fit_params)\n  File \"/usr/local/lib/python3.9/dist-packages/catboost/core.py\", line 5128, in fit\n    self._fit(X, y, cat_features, text_features, embedding_features, None, sample_weight, None, None, None, None, baseline, use_best_model,\n  File \"/usr/local/lib/python3.9/dist-packages/catboost/core.py\", line 2339, in _fit\n    train_params = self._prepare_train_params(\n  File \"/usr/local/lib/python3.9/dist-packages/catboost/core.py\", line 2266, in _prepare_train_params\n    _check_train_params(params)\n  File \"_catboost.pyx\", line 6080, in _catboost._check_train_params\n  File \"_catboost.pyx\", line 6099, in _catboost._check_train_params\n_catboost.CatBoostError: catboost/private/libs/options/boosting_options.cpp:79: Learning rate should be non-zero\n\n--------------------------------------------------------------------------------\n6 fits failed with the following error:\nTraceback (most recent call last):\n  File \"/usr/local/lib/python3.9/dist-packages/sklearn/model_selection/_validation.py\", line 686, in _fit_and_score\n    estimator.fit(X_train, y_train, **fit_params)\n  File \"/usr/local/lib/python3.9/dist-packages/catboost/core.py\", line 5128, in fit\n    self._fit(X, y, cat_features, text_features, embedding_features, None, sample_weight, None, None, None, None, baseline, use_best_model,\n  File \"/usr/local/lib/python3.9/dist-packages/catboost/core.py\", line 2339, in _fit\n    train_params = self._prepare_train_params(\n  File \"/usr/local/lib/python3.9/dist-packages/catboost/core.py\", line 2266, in _prepare_train_params\n    _check_train_params(params)\n  File \"_catboost.pyx\", line 6080, in _catboost._check_train_params\n  File \"_catboost.pyx\", line 6099, in _catboost._check_train_params\n_catboost.CatBoostError: catboost/private/libs/options/boosting_options.cpp:65: Iterations count should be positive\n"
          ]
        }
      ]
    },
    {
      "cell_type": "code",
      "source": [
        "#AdaBoost\n",
        "from sklearn.ensemble import AdaBoostClassifier\n",
        "from sklearn.tree import DecisionTreeClassifier\n",
        "from sklearn.metrics import roc_auc_score\n",
        "from sklearn.model_selection import RandomizedSearchCV\n",
        "import numpy as np\n",
        "\n",
        "# define the class weights\n",
        "class_weights = {0: 1, 1: 1, 2: 2, 3: 2, 4: 3, 5: 3, 6: 4}\n",
        "\n",
        "# define the base estimator\n",
        "base_estimator = DecisionTreeClassifier(max_depth=1)\n",
        "\n",
        "# define the AdaBoost classifier\n",
        "ada_model = AdaBoostClassifier(base_estimator=base_estimator, random_state=42)\n",
        "\n",
        "# defining the parameter grid to search over\n",
        "param_grid = {\n",
        "    'base_estimator__max_depth': np.arange(1, 5),\n",
        "    'learning_rate': np.arange(0.01, 0.2, 0.1),\n",
        "    'n_estimators': range(70, 200, 20),\n",
        "    'algorithm': ['SAMME', 'SAMME.R']\n",
        "}\n",
        "\n",
        "# use RandomizedSearchCV to search for best hyperparameters\n",
        "ada_model = RandomizedSearchCV(estimator=ada_model, param_distributions=param_grid, n_iter=300, cv=3, verbose=2, random_state=42, n_jobs=-1, scoring='roc_auc_ovr', return_train_score=True)\n",
        "\n",
        "ada_model.fit(x_train, y_train)\n",
        "\n",
        "# printing best parameters and best score\n",
        "print(\"Best parameters: \", ada_model.best_params_)\n",
        "print(\"Best score: \", ada_model.best_score_)\n",
        "\n",
        "# Make predictions on the test data using the best model\n",
        "y_pred = ada_model.predict_proba(x_test)\n",
        "\n",
        "# printing the accuracy\n",
        "accuracy = roc_auc_score(y_test, y_pred, multi_class='ovr')\n",
        "print(\"Accuracy score:\", accuracy)\n",
        "\n",
        "from sklearn.metrics import classification_report\n",
        "# Make predictions on the test data using the best model\n",
        "y_pred = cb_model.predict(x_test)\n",
        "\n",
        "# Print the classification report\n",
        "print(classification_report(y_test, y_pred))\n"
      ],
      "metadata": {
        "id": "mGLFrAb0Rkvc"
      },
      "execution_count": null,
      "outputs": []
    },
    {
      "cell_type": "code",
      "source": [
        "#Transfer Learning by Neural Networks\n",
        "import pandas as pd\n",
        "import numpy as np\n",
        "from pytorch_tabnet.tab_model import TabNetClassifier\n",
        "from sklearn.model_selection import train_test_split\n",
        "from sklearn.metrics import classification_report, roc_auc_score\n",
        "\n",
        "# Read the train and test data and labels from CSV files\n",
        "x_train = pd.read_csv(\"train_data.csv\")\n",
        "x_test = pd.read_csv(\"test_data.csv\")\n",
        "y_train = pd.read_csv(\"train_labels.csv\")\n",
        "y_test = pd.read_csv(\"test_labels.csv\")\n",
        "\n",
        "x_train, x_valid, y_train, y_valid = train_test_split(x_train,y_train, test_size=0.1, random_state=42)\n",
        "\n",
        "x_train= np.array(x_train)\n",
        "x_valid= np.array(x_valid)\n",
        "x_test= np.array(x_test)\n",
        "y_test = y_test.values.ravel()\n",
        "\n",
        "clf = TabNetClassifier()\n",
        "clf.fit(x_train, y_train.values.ravel(), eval_set=[(x_valid, y_valid.values.ravel())], eval_metric=['balanced_accuracy'] , \n",
        "        weights= 1, batch_size=16000, virtual_batch_size = 128, patience=10, max_epochs= 200 , drop_last= False )\n",
        "preds = clf.predict(x_test)\n",
        "\n",
        "# Print the classification report\n",
        "print(classification_report(y_test, preds))\n",
        "    \n",
        "# Test the model on the validation data\n",
        "y_pred_proba = clf.predict_proba(x_test)\n",
        "auc = roc_auc_score(y_test, y_pred_proba, multi_class='ovr')\n",
        "print(\"AUC on test data: %.4f\" % auc)"
      ],
      "metadata": {
        "id": "bD26_Y6yzuzP"
      },
      "execution_count": null,
      "outputs": []
    },
    {
      "cell_type": "code",
      "source": [
        "#Improved Transfer Learning by Neural Networks\n",
        "import pandas as pd\n",
        "import numpy as np\n",
        "import tensorflow as tf\n",
        "from tensorflow.keras.layers import Dense, Input, Concatenate\n",
        "from tensorflow.keras.models import Model\n",
        "from pytorch_tabnet.tab_model import TabNetClassifier\n",
        "from sklearn.model_selection import train_test_split\n",
        "from sklearn.metrics import classification_report, roc_auc_score\n",
        "\n",
        "\n",
        "# Read the train and test data and labels from CSV files\n",
        "x_train = pd.read_csv(\"train_data.csv\")\n",
        "x_test = pd.read_csv(\"test_data.csv\")\n",
        "y_train = pd.read_csv(\"train_labels.csv\")\n",
        "y_test = pd.read_csv(\"test_labels.csv\")\n",
        "\n",
        "x_train, x_valid, y_train, y_valid = train_test_split(x_train,y_train, test_size=0.1, random_state=42)\n",
        "\n",
        "x_train= np.array(x_train)\n",
        "x_valid= np.array(x_valid)\n",
        "x_test= np.array(x_test)\n",
        "y_test = y_test.values.ravel()\n",
        "y_train = y_train.values.ravel()\n",
        "y_valid = y_valid.values.ravel()\n",
        "\n",
        "num_classes = len(np.unique(y_train))\n",
        "\n",
        "\n",
        "# Load pre-trained TabNet model\n",
        "pretrained_model = TabNetClassifier()\n",
        "\n",
        "# Freeze the pre-trained model\n",
        "pretrained_model.tabnet.transform = tf.function(pretrained_model.tabnet.transform)\n",
        "pretrained_model.tabnet.training = False\n",
        "\n",
        "# Get the learned features from the pre-trained model\n",
        "x_train_tabnet = pretrained_model.tabnet.transform(tf.convert_to_tensor(x_train)).numpy()\n",
        "x_test_tabnet = pretrained_model.tabnet.transform(tf.convert_to_tensor(x_test)).numpy()\n",
        "\n",
        "# Add your own classification layers on top of the learned features\n",
        "inputs = Input(shape=(x_train_tabnet.shape[1],))\n",
        "x = Dense(1024, activation='relu')(inputs)\n",
        "x = Dense(512, activation='relu')(x)\n",
        "concat = Concatenate()([x, x_train_tabnet])\n",
        "predictions = Dense(num_classes, activation='softmax')(concat)\n",
        "\n",
        "# Create the model by combining the pre-trained model and your own classification layers\n",
        "model = Model(inputs=inputs, outputs=predictions)\n",
        "\n",
        "# Compile the model with a suitable loss function and optimizer\n",
        "model.compile(loss='categorical_crossentropy', optimizer='adam', metrics=['accuracy'])\n",
        "\n",
        "# Fine-tune the model\n",
        "history = model.fit(x_train, y_train, epochs=10, validation_data=(x_valid, y_valid))\n",
        "\n",
        "# Evaluate the model on the test data\n",
        "test_loss, test_acc = model.evaluate(x_test, y_test)\n",
        "print('test_loss= ', test_loss,' Test accuracy:', test_acc)\n",
        "\n",
        "preds = model.predict(x_test)\n",
        "# Print the classification report\n",
        "print(classification_report(y_test, preds))\n",
        "    \n",
        "# Test the model on the validation data\n",
        "y_pred_proba = model.predict_proba(x_test)\n",
        "auc = roc_auc_score(y_test, y_pred_proba, multi_class='ovr')\n",
        "print(\"AUC on test data: %.4f\" % auc)"
      ],
      "metadata": {
        "id": "spvIQjg43Viv"
      },
      "execution_count": null,
      "outputs": []
    }
  ]
}